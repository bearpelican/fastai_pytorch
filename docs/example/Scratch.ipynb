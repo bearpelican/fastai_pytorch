{
 "cells": [
  {
   "cell_type": "code",
   "execution_count": null,
   "metadata": {},
   "outputs": [],
   "source": [
    "%reload_ext autoreload\n",
    "%autoreload 2"
   ]
  },
  {
   "cell_type": "code",
   "execution_count": null,
   "metadata": {},
   "outputs": [],
   "source": [
    "import gen_doc\n",
    "from gen_doc import nbdoc"
   ]
  },
  {
   "cell_type": "code",
   "execution_count": null,
   "metadata": {},
   "outputs": [],
   "source": [
    "from enum import IntEnum, Enum\n",
    "import inspect"
   ]
  },
  {
   "cell_type": "markdown",
   "metadata": {},
   "source": [
    "### Enums"
   ]
  },
  {
   "cell_type": "code",
   "execution_count": null,
   "metadata": {},
   "outputs": [],
   "source": [
    "TfmY = IntEnum('TfmY', 'No Pixel Mask Coord BBox')"
   ]
  },
  {
   "cell_type": "markdown",
   "metadata": {},
   "source": [
    "**TfmY:IntEnum** [No, Pixel, Mask, Coord, BBox]\n",
    "\n",
    "An enumeration."
   ]
  },
  {
   "cell_type": "code",
   "execution_count": null,
   "metadata": {},
   "outputs": [
    {
     "data": {
      "text/plain": [
       "enum.EnumMeta"
      ]
     },
     "execution_count": null,
     "metadata": {},
     "output_type": "execute_result"
    }
   ],
   "source": [
    "type(TfmY)"
   ]
  },
  {
   "cell_type": "code",
   "execution_count": null,
   "metadata": {},
   "outputs": [
    {
     "data": {
      "text/markdown": [
       "<a id=TfmY></a>**TfmY**:Enum = [No, Pixel, Mask, Coord, BBox]\n",
       "\n",
       "\n",
       "An enumeration."
      ],
      "text/plain": [
       "<IPython.core.display.Markdown object>"
      ]
     },
     "metadata": {},
     "output_type": "display_data"
    }
   ],
   "source": [
    "nbdoc.show_doc(TfmY)"
   ]
  },
  {
   "cell_type": "code",
   "execution_count": null,
   "metadata": {},
   "outputs": [],
   "source": [
    "from gen_doc.docstrings import *"
   ]
  },
  {
   "cell_type": "markdown",
   "metadata": {},
   "source": [
    "### Classes"
   ]
  },
  {
   "cell_type": "code",
   "execution_count": null,
   "metadata": {},
   "outputs": [],
   "source": [
    "class Parentclass():\n",
    "    pass"
   ]
  },
  {
   "cell_type": "code",
   "execution_count": null,
   "metadata": {},
   "outputs": [],
   "source": [
    "class Subclass(Parentclass):\n",
    "    def __init__(self, var:int=10): pass\n",
    "    def update(self): pass\n",
    "    def remove(self): pass"
   ]
  },
  {
   "cell_type": "code",
   "execution_count": null,
   "metadata": {},
   "outputs": [
    {
     "data": {
      "text/markdown": [
       "<a id=Subclass></a>**Subclass**(<em>var</em>: int=10)\n",
       "\n",
       "Subclass of **[Parentclass](__main__.ipynb#Parentclass)**"
      ],
      "text/plain": [
       "<IPython.core.display.Markdown object>"
      ]
     },
     "metadata": {},
     "output_type": "display_data"
    }
   ],
   "source": [
    "nbdoc.show_doc(Subclass)"
   ]
  },
  {
   "cell_type": "code",
   "execution_count": null,
   "metadata": {},
   "outputs": [
    {
     "data": {
      "text/markdown": [
       "- [Subclass.update](#Subclass.update)\n",
       "- [Subclass.remove](#Subclass.remove)\n"
      ],
      "text/plain": [
       "<IPython.core.display.Markdown object>"
      ]
     },
     "metadata": {},
     "output_type": "display_data"
    }
   ],
   "source": [
    "nbdoc.get_class_toc('__main__', 'Subclass')"
   ]
  },
  {
   "cell_type": "markdown",
   "metadata": {},
   "source": [
    "### Functions"
   ]
  },
  {
   "cell_type": "code",
   "execution_count": null,
   "metadata": {},
   "outputs": [],
   "source": [
    "def example_function(x:int, cls:Parentclass=None) -> str:\n",
    "    \"\"\"\n",
    "    Provides an example to how docstrings are resolved\n",
    "    :param x: Number to store\n",
    "    :param cls: Class string \n",
    "    :return: Error string\n",
    "    \"\"\"\n",
    "    pass"
   ]
  },
  {
   "cell_type": "code",
   "execution_count": null,
   "metadata": {},
   "outputs": [
    {
     "data": {
      "text/markdown": [
       "<a id=example_function></a>**example_function**(<em>x</em>: int, <em>cls</em>: [Parentclass](__main__.ipynb#Parentclass)=None) -> str\n",
       "\n",
       "\n",
       "Provides an example to how docstrings are resolved\n",
       "\n",
       "- *cls*: Override cls docs\n",
       "\n",
       "*return*: Error string"
      ],
      "text/plain": [
       "<IPython.core.display.Markdown object>"
      ]
     },
     "metadata": {},
     "output_type": "display_data"
    }
   ],
   "source": [
    "nbdoc.show_doc(example_function, arg_comments={'cls': 'Override cls docs'})"
   ]
  },
  {
   "cell_type": "code",
   "execution_count": null,
   "metadata": {},
   "outputs": [],
   "source": [
    "def calls_example(x, y):\n",
    "    example_function(x)"
   ]
  },
  {
   "cell_type": "code",
   "execution_count": null,
   "metadata": {},
   "outputs": [
    {
     "data": {
      "text/plain": [
       "<function __main__.example_function(x:int, cls:__main__.Parentclass=None) -> str>"
      ]
     },
     "execution_count": null,
     "metadata": {},
     "output_type": "execute_result"
    }
   ],
   "source": [
    "calls_example.__globals__['example_function']"
   ]
  },
  {
   "cell_type": "code",
   "execution_count": null,
   "metadata": {},
   "outputs": [
    {
     "data": {
      "text/plain": [
       "[('__annotations__', {}),\n",
       " ('__call__', <method-wrapper '__call__' of function object at 0x11a362bf8>),\n",
       " ('__class__', function),\n",
       " ('__closure__', None),\n",
       " ('__code__',\n",
       "  <code object calls_example at 0x11a363ed0, file \"<ipython-input-44-b2da5b402301>\", line 1>),\n",
       " ('__defaults__', None),\n",
       " ('__delattr__',\n",
       "  <method-wrapper '__delattr__' of function object at 0x11a362bf8>),\n",
       " ('__dict__', {}),\n",
       " ('__dir__', <function function.__dir__>),\n",
       " ('__doc__', None),\n",
       " ('__eq__', <method-wrapper '__eq__' of function object at 0x11a362bf8>),\n",
       " ('__format__', <function function.__format__>),\n",
       " ('__ge__', <method-wrapper '__ge__' of function object at 0x11a362bf8>),\n",
       " ('__get__', <method-wrapper '__get__' of function object at 0x11a362bf8>),\n",
       " ('__getattribute__',\n",
       "  <method-wrapper '__getattribute__' of function object at 0x11a362bf8>),\n",
       " ('__globals__',\n",
       "  {'__name__': '__main__',\n",
       "   '__doc__': 'Automatically created module for IPython interactive environment',\n",
       "   '__package__': None,\n",
       "   '__loader__': None,\n",
       "   '__spec__': None,\n",
       "   '__builtin__': <module 'builtins' (built-in)>,\n",
       "   '__builtins__': <module 'builtins' (built-in)>,\n",
       "   '_ih': ['',\n",
       "    \"get_ipython().run_line_magic('reload_ext', 'autoreload')\\nget_ipython().run_line_magic('autoreload', '2')\",\n",
       "    'import gen_doc\\nfrom gen_doc import nbdoc',\n",
       "    'from enum import IntEnum, Enum\\nimport inspect',\n",
       "    'from gen_doc.core import *',\n",
       "    'def function_with_type_alias(type_alias:Floats):\\n    pass',\n",
       "    'inspect.getmembers(function_with_type_alias)',\n",
       "    'nbdoc.show_doc(function_with_type_alias)',\n",
       "    'inspect.getfullargspec(function_with_type_alias)',\n",
       "    'def get_var_docs(fname):\\n    \\'\\'\\'Read the module referenced in fname (often <module>.__file__) and return a\\n    dict with global variables, their value and the \"docstring\" that follows\\n    the definition of the variable\\n    \\'\\'\\'\\n    import ast,os\\n    fname = os.path.splitext(fname)[0]+\\'.py\\' # convert .pyc to .py\\n    with open(fname, \\'r\\') as f:\\n        fstr = f.read()\\n    d = {}\\n    key = None\\n    flines = fstr.splitlines()\\n    for node in ast.walk(ast.parse(fstr)):\\n        if isinstance(node,ast.Assign):\\n            if hasattr(node.targets[0], \\'id\\'):\\n                key = node.targets[0].id\\n                d[key] = flines[node.targets[0].lineno-1]\\n#                 if hasattr(node.value, \\'id\\'):\\n#                     d[key] = [node.value.id,\\'\\']\\n            continue\\n        elif isinstance(node,ast.Expr) and key:\\n            if hasattr(node.value, \\'s\\'):\\n                d[key][1] = node.value.s.strip()\\n        key = None\\n    return d\\n\\ndef is_comment(comment_str):\\n    ',\n",
       "    'REGEX = re.compile(f\"^{key} = .*\")',\n",
       "    'import re\\nREGEX = re.compile(f\"^{key} = .*\")',\n",
       "    \"key = 'hello'\",\n",
       "    'import re\\nREGEX = re.compile(f\"^{key} = .*\")',\n",
       "    \"REGEX.match('hello = sdfdsf')\",\n",
       "    \"m = REGEX.match('hello = sdfdsf')\",\n",
       "    \"m = REGEX.match('helljo = sdfdsf')\",\n",
       "    \"m = REGEX.match('helljo = sdfdsf'); m\",\n",
       "    'def get_var_docs(fname):\\n    \\'\\'\\'Read the module referenced in fname (often <module>.__file__) and return a\\n    dict with global variables, their value and the \"docstring\" that follows\\n    the definition of the variable\\n    \\'\\'\\'\\n    import ast,os\\n    fname = os.path.splitext(fname)[0]+\\'.py\\' # convert .pyc to .py\\n    with open(fname, \\'r\\') as f:\\n        fstr = f.read()\\n    d = {}\\n    key = None\\n    flines = fstr.splitlines()\\n    for node in ast.walk(ast.parse(fstr)):\\n        if isinstance(node,ast.Assign):\\n            if hasattr(node.targets[0], \\'id\\'):\\n                key = node.targets[0].id\\n                codestr = flines[node.targets[0].lineno-1]\\n                import re\\n                REGEX = re.compile(f\"^{key} = .*\")\\n                if re.match(f\"^{key} = .*\", codestr) # only top level assignment\\n                    d[key] = flines[node.targets[0].lineno-1]\\n#                 if hasattr(node.value, \\'id\\'):\\n#                     d[key] = [node.value.id,\\'\\']\\n            continue\\n        elif isinstance(node,ast.Expr) and key:\\n            if hasattr(node.value, \\'s\\'):\\n                d[key][1] = node.value.s.strip()\\n        key = None\\n    return d',\n",
       "    'def get_var_docs(fname):\\n    \\'\\'\\'Read the module referenced in fname (often <module>.__file__) and return a\\n    dict with global variables, their value and the \"docstring\" that follows\\n    the definition of the variable\\n    \\'\\'\\'\\n    import ast,os,re\\n    fname = os.path.splitext(fname)[0]+\\'.py\\' # convert .pyc to .py\\n    with open(fname, \\'r\\') as f:\\n        fstr = f.read()\\n    d = {}\\n    key = None\\n    flines = fstr.splitlines()\\n    for node in ast.walk(ast.parse(fstr)):\\n        if isinstance(node,ast.Assign):\\n            if hasattr(node.targets[0], \\'id\\'):\\n                key = node.targets[0].id\\n                codestr = flines[node.targets[0].lineno-1]\\n                if re.match(f\"^{key} = .*\", codestr) # only top level assignment\\n                    d[key] = flines[node.targets[0].lineno-1]\\n#                 if hasattr(node.value, \\'id\\'):\\n#                     d[key] = [node.value.id,\\'\\']\\n            continue\\n        elif isinstance(node,ast.Expr) and key:\\n            if hasattr(node.value, \\'s\\'):\\n                d[key][1] = node.value.s.strip()\\n        key = None\\n    return d',\n",
       "    'def get_var_docs(fname):\\n    \\'\\'\\'Read the module referenced in fname (often <module>.__file__) and return a\\n    dict with global variables, their value and the \"docstring\" that follows\\n    the definition of the variable\\n    \\'\\'\\'\\n    import ast,os,re\\n    fname = os.path.splitext(fname)[0]+\\'.py\\' # convert .pyc to .py\\n    with open(fname, \\'r\\') as f:\\n        fstr = f.read()\\n    d = {}\\n    key = None\\n    flines = fstr.splitlines()\\n    for node in ast.walk(ast.parse(fstr)):\\n        if isinstance(node,ast.Assign):\\n            if hasattr(node.targets[0], \\'id\\'):\\n                key = node.targets[0].id\\n                codestr = flines[node.targets[0].lineno-1]\\n                if re.match(f\"^{key} = .*\", codestr) \\n                    d[key] = flines[node.targets[0].lineno-1]\\n#                 if hasattr(node.value, \\'id\\'):\\n#                     d[key] = [node.value.id,\\'\\']\\n            continue\\n        elif isinstance(node,ast.Expr) and key:\\n            if hasattr(node.value, \\'s\\'):\\n                d[key][1] = node.value.s.strip()\\n        key = None\\n    return d',\n",
       "    'def get_var_docs(fname):\\n    \\'\\'\\'Read the module referenced in fname (often <module>.__file__) and return a\\n    dict with global variables, their value and the \"docstring\" that follows\\n    the definition of the variable\\n    \\'\\'\\'\\n    import ast,os,re\\n    fname = os.path.splitext(fname)[0]+\\'.py\\' # convert .pyc to .py\\n    with open(fname, \\'r\\') as f:\\n        fstr = f.read()\\n    d = {}\\n    key = None\\n    flines = fstr.splitlines()\\n    for node in ast.walk(ast.parse(fstr)):\\n        if isinstance(node,ast.Assign):\\n            if hasattr(node.targets[0], \\'id\\'):\\n                key = node.targets[0].id\\n                codestr = flines[node.targets[0].lineno-1]\\n#                 if re.match(f\"^{key} = .*\", codestr) \\n#                     d[key] = flines[node.targets[0].lineno-1]\\n#                 if hasattr(node.value, \\'id\\'):\\n#                     d[key] = [node.value.id,\\'\\']\\n            continue\\n        elif isinstance(node,ast.Expr) and key:\\n            if hasattr(node.value, \\'s\\'):\\n                d[key][1] = node.value.s.strip()\\n        key = None\\n    return d',\n",
       "    'def get_var_docs(fname):\\n    \\'\\'\\'Read the module referenced in fname (often <module>.__file__) and return a\\n    dict with global variables, their value and the \"docstring\" that follows\\n    the definition of the variable\\n    \\'\\'\\'\\n    import ast,os,re\\n    fname = os.path.splitext(fname)[0]+\\'.py\\' # convert .pyc to .py\\n    with open(fname, \\'r\\') as f:\\n        fstr = f.read()\\n    d = {}\\n    key = None\\n    flines = fstr.splitlines()\\n    for node in ast.walk(ast.parse(fstr)):\\n        if isinstance(node,ast.Assign):\\n            if hasattr(node.targets[0], \\'id\\'):\\n                key = node.targets[0].id\\n                codestr = flines[node.targets[0].lineno-1]\\n                if re.match(f\"^{key} = .*\", codestr): # only top level assignment\\n                    d[key] = flines[node.targets[0].lineno-1]\\n#                 if hasattr(node.value, \\'id\\'):\\n#                     d[key] = [node.value.id,\\'\\']\\n            continue\\n        elif isinstance(node,ast.Expr) and key:\\n            if hasattr(node.value, \\'s\\'):\\n                d[key][1] = node.value.s.strip()\\n        key = None\\n    return d',\n",
       "    \"GetVarDocs('../../fastai/core.py')\",\n",
       "    \"get_var_docs('../../fastai/core.py')\",\n",
       "    'def get_global_types(fname):\\n    \\'\\'\\'Read the module referenced in fname (often <module>.__file__) and return a\\n    dict with global variables, their value and the \"docstring\" that follows\\n    the definition of the variable\\n    \\'\\'\\'\\n    import ast,os,re\\n    fname = os.path.splitext(fname)[0]+\\'.py\\' # convert .pyc to .py\\n    with open(fname, \\'r\\') as f:\\n        fstr = f.read()\\n    d = {}\\n    key = None\\n    flines = fstr.splitlines()\\n    for node in ast.walk(ast.parse(fstr)):\\n        if isinstance(node,ast.Assign):\\n            if hasattr(node.targets[0], \\'id\\'):\\n                key = node.targets[0].id\\n                codestr = flines[node.targets[0].lineno-1]\\n                if re.match(f\"^{key} = .*\", codestr): # only top level assignment\\n                    d[key] = flines[node.targets[0].lineno-1]\\n#                 if hasattr(node.value, \\'id\\'):\\n#                     d[key] = [node.value.id,\\'\\']\\n            continue\\n        elif isinstance(node,ast.Expr) and key:\\n            if hasattr(node.value, \\'s\\'):\\n                d[key][1] = node.value.s.strip()\\n        key = None\\n    return d',\n",
       "    \"get_var_docs('../../fastai/core.py')\",\n",
       "    'def get_globals(fname):\\n    \\'\\'\\'Read the module referenced in fname (often <module>.__file__) and return a\\n    dict with global variables, their value and the \"docstring\" that follows\\n    the definition of the variable\\n    \\'\\'\\'\\n    import ast,os,re\\n    fname = os.path.splitext(fname)[0]+\\'.py\\' # convert .pyc to .py\\n    with open(fname, \\'r\\') as f:\\n        fstr = f.read()\\n    d = {}\\n    key = None\\n    flines = fstr.splitlines()\\n    for node in ast.walk(ast.parse(fstr)):\\n        if isinstance(node,ast.Assign):\\n            if hasattr(node.targets[0], \\'id\\'):\\n                key = node.targets[0].id\\n                codestr = flines[node.targets[0].lineno-1]\\n                if re.match(f\"^{key} = .*\", codestr): # only top level assignment\\n                    d[key] = flines[node.targets[0].lineno-1]\\n#                 if hasattr(node.value, \\'id\\'):\\n#                     d[key] = [node.value.id,\\'\\']\\n            continue\\n        elif isinstance(node,ast.Expr) and key:\\n            if hasattr(node.value, \\'s\\'):\\n                d[key][1] = node.value.s.strip()\\n        key = None\\n    return d',\n",
       "    \"get_var_docs('../../fastai/core.py')\",\n",
       "    \"TfmY = IntEnum('TfmY', 'No Pixel Mask Coord BBox')\",\n",
       "    'type(TfmY)',\n",
       "    'nbdoc.show_doc(TfmY)',\n",
       "    'from gen_doc.docstrings import *',\n",
       "    'class Parentclass():\\n    pass',\n",
       "    'class Subclass(Parentclass):\\n    def __init__(self, var:int=10): pass\\n    def update(self): pass\\n    def remove(self): pass',\n",
       "    'inspect.getmodule(Subclass)',\n",
       "    'a = inspect.getfullargspec(Subclass)',\n",
       "    'a.args',\n",
       "    'nbdoc.show_doc(Subclass)',\n",
       "    'nbdoc.get_inner_fts(Subclass)',\n",
       "    \"nbdoc.get_class_toc('__main__', 'Subclass')\",\n",
       "    'def example_function(x:int, cls:Parentclass=None) -> str:\\n    \"\"\"\\n    Provides an example to how docstrings are resolved\\n    :param x: Number to store\\n    :param cls: Class string \\n    :return: Error string\\n    \"\"\"\\n    pass',\n",
       "    'nbdoc.parse_docstring(example_function.__doc__)',\n",
       "    \"nbdoc.show_doc(example_function, arg_comments={'cls': 'Override cls docs'})\",\n",
       "    'def calls_example(x, y):\\n    example_function(x)',\n",
       "    'inspect.getmembers(calls_example)'],\n",
       "   '_oh': {6: [('__annotations__',\n",
       "      {'type_alias': typing.Union[float, typing.Collection[float]]}),\n",
       "     ('__call__',\n",
       "      <method-wrapper '__call__' of function object at 0x10c85a7b8>),\n",
       "     ('__class__', function),\n",
       "     ('__closure__', None),\n",
       "     ('__code__',\n",
       "      <code object function_with_type_alias at 0x10c880d20, file \"<ipython-input-5-4f7dd948f8f3>\", line 1>),\n",
       "     ('__defaults__', None),\n",
       "     ('__delattr__',\n",
       "      <method-wrapper '__delattr__' of function object at 0x10c85a7b8>),\n",
       "     ('__dict__', {}),\n",
       "     ('__dir__', <function function.__dir__>),\n",
       "     ('__doc__', None),\n",
       "     ('__eq__', <method-wrapper '__eq__' of function object at 0x10c85a7b8>),\n",
       "     ('__format__', <function function.__format__>),\n",
       "     ('__ge__', <method-wrapper '__ge__' of function object at 0x10c85a7b8>),\n",
       "     ('__get__', <method-wrapper '__get__' of function object at 0x10c85a7b8>),\n",
       "     ('__getattribute__',\n",
       "      <method-wrapper '__getattribute__' of function object at 0x10c85a7b8>),\n",
       "     ('__globals__', {...}),\n",
       "     ('__gt__', <method-wrapper '__gt__' of function object at 0x10c85a7b8>),\n",
       "     ('__hash__',\n",
       "      <method-wrapper '__hash__' of function object at 0x10c85a7b8>),\n",
       "     ('__init__',\n",
       "      <method-wrapper '__init__' of function object at 0x10c85a7b8>),\n",
       "     ('__init_subclass__', <function function.__init_subclass__>),\n",
       "     ('__kwdefaults__', None),\n",
       "     ('__le__', <method-wrapper '__le__' of function object at 0x10c85a7b8>),\n",
       "     ('__lt__', <method-wrapper '__lt__' of function object at 0x10c85a7b8>),\n",
       "     ('__module__', '__main__'),\n",
       "     ('__name__', 'function_with_type_alias'),\n",
       "     ('__ne__', <method-wrapper '__ne__' of function object at 0x10c85a7b8>),\n",
       "     ('__new__', <function function.__new__(*args, **kwargs)>),\n",
       "     ('__qualname__', 'function_with_type_alias'),\n",
       "     ('__reduce__', <function function.__reduce__>),\n",
       "     ('__reduce_ex__', <function function.__reduce_ex__>),\n",
       "     ('__repr__',\n",
       "      <method-wrapper '__repr__' of function object at 0x10c85a7b8>),\n",
       "     ('__setattr__',\n",
       "      <method-wrapper '__setattr__' of function object at 0x10c85a7b8>),\n",
       "     ('__sizeof__', <function function.__sizeof__>),\n",
       "     ('__str__', <method-wrapper '__str__' of function object at 0x10c85a7b8>),\n",
       "     ('__subclasshook__', <function function.__subclasshook__>)],\n",
       "    8: FullArgSpec(args=['type_alias'], varargs=None, varkw=None, defaults=None, kwonlyargs=[], kwonlydefaults=None, annotations={'type_alias': typing.Union[float, typing.Collection[float]]}),\n",
       "    14: <_sre.SRE_Match object; span=(0, 14), match='hello = sdfdsf'>,\n",
       "    24: {'FileLike': 'FileLike = Union[str, Path]',\n",
       "     'Floats': 'Floats = Union[float, Collection[float]]',\n",
       "     'AnnealingFt': 'AnnealingFt = Union[Callable[[float,float,float],float],Callable[[float,float,float,float],float]]'},\n",
       "    26: {'FileLike': 'FileLike = Union[str, Path]',\n",
       "     'Floats': 'Floats = Union[float, Collection[float]]',\n",
       "     'AnnealingFt': 'AnnealingFt = Union[Callable[[float,float,float],float],Callable[[float,float,float,float],float]]'},\n",
       "    28: {'FileLike': 'FileLike = Union[str, Path]',\n",
       "     'Floats': 'Floats = Union[float, Collection[float]]',\n",
       "     'AnnealingFt': 'AnnealingFt = Union[Callable[[float,float,float],float],Callable[[float,float,float,float],float]]'},\n",
       "    30: enum.EnumMeta,\n",
       "    35: <module '__main__'>,\n",
       "    37: ['self', 'var'],\n",
       "    39: ['Subclass.update', 'Subclass.remove'],\n",
       "    42: {'short_description': 'Provides an example to how docstrings are resolved',\n",
       "     'long_description': '',\n",
       "     'args': [{'name': 'x', 'doc': 'Number to store\\n', 'field': 'param'},\n",
       "      {'name': 'cls', 'doc': 'Class string\\n', 'field': 'param'}],\n",
       "     'comments': {'x': 'Number to store\\n', 'cls': 'Class string\\n'},\n",
       "     'return': 'Error string'}},\n",
       "   '_dh': ['/Users/andrewshaw/Projects/ML/fastai_v1/docs/example'],\n",
       "   'In': ['',\n",
       "    \"get_ipython().run_line_magic('reload_ext', 'autoreload')\\nget_ipython().run_line_magic('autoreload', '2')\",\n",
       "    'import gen_doc\\nfrom gen_doc import nbdoc',\n",
       "    'from enum import IntEnum, Enum\\nimport inspect',\n",
       "    'from gen_doc.core import *',\n",
       "    'def function_with_type_alias(type_alias:Floats):\\n    pass',\n",
       "    'inspect.getmembers(function_with_type_alias)',\n",
       "    'nbdoc.show_doc(function_with_type_alias)',\n",
       "    'inspect.getfullargspec(function_with_type_alias)',\n",
       "    'def get_var_docs(fname):\\n    \\'\\'\\'Read the module referenced in fname (often <module>.__file__) and return a\\n    dict with global variables, their value and the \"docstring\" that follows\\n    the definition of the variable\\n    \\'\\'\\'\\n    import ast,os\\n    fname = os.path.splitext(fname)[0]+\\'.py\\' # convert .pyc to .py\\n    with open(fname, \\'r\\') as f:\\n        fstr = f.read()\\n    d = {}\\n    key = None\\n    flines = fstr.splitlines()\\n    for node in ast.walk(ast.parse(fstr)):\\n        if isinstance(node,ast.Assign):\\n            if hasattr(node.targets[0], \\'id\\'):\\n                key = node.targets[0].id\\n                d[key] = flines[node.targets[0].lineno-1]\\n#                 if hasattr(node.value, \\'id\\'):\\n#                     d[key] = [node.value.id,\\'\\']\\n            continue\\n        elif isinstance(node,ast.Expr) and key:\\n            if hasattr(node.value, \\'s\\'):\\n                d[key][1] = node.value.s.strip()\\n        key = None\\n    return d\\n\\ndef is_comment(comment_str):\\n    ',\n",
       "    'REGEX = re.compile(f\"^{key} = .*\")',\n",
       "    'import re\\nREGEX = re.compile(f\"^{key} = .*\")',\n",
       "    \"key = 'hello'\",\n",
       "    'import re\\nREGEX = re.compile(f\"^{key} = .*\")',\n",
       "    \"REGEX.match('hello = sdfdsf')\",\n",
       "    \"m = REGEX.match('hello = sdfdsf')\",\n",
       "    \"m = REGEX.match('helljo = sdfdsf')\",\n",
       "    \"m = REGEX.match('helljo = sdfdsf'); m\",\n",
       "    'def get_var_docs(fname):\\n    \\'\\'\\'Read the module referenced in fname (often <module>.__file__) and return a\\n    dict with global variables, their value and the \"docstring\" that follows\\n    the definition of the variable\\n    \\'\\'\\'\\n    import ast,os\\n    fname = os.path.splitext(fname)[0]+\\'.py\\' # convert .pyc to .py\\n    with open(fname, \\'r\\') as f:\\n        fstr = f.read()\\n    d = {}\\n    key = None\\n    flines = fstr.splitlines()\\n    for node in ast.walk(ast.parse(fstr)):\\n        if isinstance(node,ast.Assign):\\n            if hasattr(node.targets[0], \\'id\\'):\\n                key = node.targets[0].id\\n                codestr = flines[node.targets[0].lineno-1]\\n                import re\\n                REGEX = re.compile(f\"^{key} = .*\")\\n                if re.match(f\"^{key} = .*\", codestr) # only top level assignment\\n                    d[key] = flines[node.targets[0].lineno-1]\\n#                 if hasattr(node.value, \\'id\\'):\\n#                     d[key] = [node.value.id,\\'\\']\\n            continue\\n        elif isinstance(node,ast.Expr) and key:\\n            if hasattr(node.value, \\'s\\'):\\n                d[key][1] = node.value.s.strip()\\n        key = None\\n    return d',\n",
       "    'def get_var_docs(fname):\\n    \\'\\'\\'Read the module referenced in fname (often <module>.__file__) and return a\\n    dict with global variables, their value and the \"docstring\" that follows\\n    the definition of the variable\\n    \\'\\'\\'\\n    import ast,os,re\\n    fname = os.path.splitext(fname)[0]+\\'.py\\' # convert .pyc to .py\\n    with open(fname, \\'r\\') as f:\\n        fstr = f.read()\\n    d = {}\\n    key = None\\n    flines = fstr.splitlines()\\n    for node in ast.walk(ast.parse(fstr)):\\n        if isinstance(node,ast.Assign):\\n            if hasattr(node.targets[0], \\'id\\'):\\n                key = node.targets[0].id\\n                codestr = flines[node.targets[0].lineno-1]\\n                if re.match(f\"^{key} = .*\", codestr) # only top level assignment\\n                    d[key] = flines[node.targets[0].lineno-1]\\n#                 if hasattr(node.value, \\'id\\'):\\n#                     d[key] = [node.value.id,\\'\\']\\n            continue\\n        elif isinstance(node,ast.Expr) and key:\\n            if hasattr(node.value, \\'s\\'):\\n                d[key][1] = node.value.s.strip()\\n        key = None\\n    return d',\n",
       "    'def get_var_docs(fname):\\n    \\'\\'\\'Read the module referenced in fname (often <module>.__file__) and return a\\n    dict with global variables, their value and the \"docstring\" that follows\\n    the definition of the variable\\n    \\'\\'\\'\\n    import ast,os,re\\n    fname = os.path.splitext(fname)[0]+\\'.py\\' # convert .pyc to .py\\n    with open(fname, \\'r\\') as f:\\n        fstr = f.read()\\n    d = {}\\n    key = None\\n    flines = fstr.splitlines()\\n    for node in ast.walk(ast.parse(fstr)):\\n        if isinstance(node,ast.Assign):\\n            if hasattr(node.targets[0], \\'id\\'):\\n                key = node.targets[0].id\\n                codestr = flines[node.targets[0].lineno-1]\\n                if re.match(f\"^{key} = .*\", codestr) \\n                    d[key] = flines[node.targets[0].lineno-1]\\n#                 if hasattr(node.value, \\'id\\'):\\n#                     d[key] = [node.value.id,\\'\\']\\n            continue\\n        elif isinstance(node,ast.Expr) and key:\\n            if hasattr(node.value, \\'s\\'):\\n                d[key][1] = node.value.s.strip()\\n        key = None\\n    return d',\n",
       "    'def get_var_docs(fname):\\n    \\'\\'\\'Read the module referenced in fname (often <module>.__file__) and return a\\n    dict with global variables, their value and the \"docstring\" that follows\\n    the definition of the variable\\n    \\'\\'\\'\\n    import ast,os,re\\n    fname = os.path.splitext(fname)[0]+\\'.py\\' # convert .pyc to .py\\n    with open(fname, \\'r\\') as f:\\n        fstr = f.read()\\n    d = {}\\n    key = None\\n    flines = fstr.splitlines()\\n    for node in ast.walk(ast.parse(fstr)):\\n        if isinstance(node,ast.Assign):\\n            if hasattr(node.targets[0], \\'id\\'):\\n                key = node.targets[0].id\\n                codestr = flines[node.targets[0].lineno-1]\\n#                 if re.match(f\"^{key} = .*\", codestr) \\n#                     d[key] = flines[node.targets[0].lineno-1]\\n#                 if hasattr(node.value, \\'id\\'):\\n#                     d[key] = [node.value.id,\\'\\']\\n            continue\\n        elif isinstance(node,ast.Expr) and key:\\n            if hasattr(node.value, \\'s\\'):\\n                d[key][1] = node.value.s.strip()\\n        key = None\\n    return d',\n",
       "    'def get_var_docs(fname):\\n    \\'\\'\\'Read the module referenced in fname (often <module>.__file__) and return a\\n    dict with global variables, their value and the \"docstring\" that follows\\n    the definition of the variable\\n    \\'\\'\\'\\n    import ast,os,re\\n    fname = os.path.splitext(fname)[0]+\\'.py\\' # convert .pyc to .py\\n    with open(fname, \\'r\\') as f:\\n        fstr = f.read()\\n    d = {}\\n    key = None\\n    flines = fstr.splitlines()\\n    for node in ast.walk(ast.parse(fstr)):\\n        if isinstance(node,ast.Assign):\\n            if hasattr(node.targets[0], \\'id\\'):\\n                key = node.targets[0].id\\n                codestr = flines[node.targets[0].lineno-1]\\n                if re.match(f\"^{key} = .*\", codestr): # only top level assignment\\n                    d[key] = flines[node.targets[0].lineno-1]\\n#                 if hasattr(node.value, \\'id\\'):\\n#                     d[key] = [node.value.id,\\'\\']\\n            continue\\n        elif isinstance(node,ast.Expr) and key:\\n            if hasattr(node.value, \\'s\\'):\\n                d[key][1] = node.value.s.strip()\\n        key = None\\n    return d',\n",
       "    \"GetVarDocs('../../fastai/core.py')\",\n",
       "    \"get_var_docs('../../fastai/core.py')\",\n",
       "    'def get_global_types(fname):\\n    \\'\\'\\'Read the module referenced in fname (often <module>.__file__) and return a\\n    dict with global variables, their value and the \"docstring\" that follows\\n    the definition of the variable\\n    \\'\\'\\'\\n    import ast,os,re\\n    fname = os.path.splitext(fname)[0]+\\'.py\\' # convert .pyc to .py\\n    with open(fname, \\'r\\') as f:\\n        fstr = f.read()\\n    d = {}\\n    key = None\\n    flines = fstr.splitlines()\\n    for node in ast.walk(ast.parse(fstr)):\\n        if isinstance(node,ast.Assign):\\n            if hasattr(node.targets[0], \\'id\\'):\\n                key = node.targets[0].id\\n                codestr = flines[node.targets[0].lineno-1]\\n                if re.match(f\"^{key} = .*\", codestr): # only top level assignment\\n                    d[key] = flines[node.targets[0].lineno-1]\\n#                 if hasattr(node.value, \\'id\\'):\\n#                     d[key] = [node.value.id,\\'\\']\\n            continue\\n        elif isinstance(node,ast.Expr) and key:\\n            if hasattr(node.value, \\'s\\'):\\n                d[key][1] = node.value.s.strip()\\n        key = None\\n    return d',\n",
       "    \"get_var_docs('../../fastai/core.py')\",\n",
       "    'def get_globals(fname):\\n    \\'\\'\\'Read the module referenced in fname (often <module>.__file__) and return a\\n    dict with global variables, their value and the \"docstring\" that follows\\n    the definition of the variable\\n    \\'\\'\\'\\n    import ast,os,re\\n    fname = os.path.splitext(fname)[0]+\\'.py\\' # convert .pyc to .py\\n    with open(fname, \\'r\\') as f:\\n        fstr = f.read()\\n    d = {}\\n    key = None\\n    flines = fstr.splitlines()\\n    for node in ast.walk(ast.parse(fstr)):\\n        if isinstance(node,ast.Assign):\\n            if hasattr(node.targets[0], \\'id\\'):\\n                key = node.targets[0].id\\n                codestr = flines[node.targets[0].lineno-1]\\n                if re.match(f\"^{key} = .*\", codestr): # only top level assignment\\n                    d[key] = flines[node.targets[0].lineno-1]\\n#                 if hasattr(node.value, \\'id\\'):\\n#                     d[key] = [node.value.id,\\'\\']\\n            continue\\n        elif isinstance(node,ast.Expr) and key:\\n            if hasattr(node.value, \\'s\\'):\\n                d[key][1] = node.value.s.strip()\\n        key = None\\n    return d',\n",
       "    \"get_var_docs('../../fastai/core.py')\",\n",
       "    \"TfmY = IntEnum('TfmY', 'No Pixel Mask Coord BBox')\",\n",
       "    'type(TfmY)',\n",
       "    'nbdoc.show_doc(TfmY)',\n",
       "    'from gen_doc.docstrings import *',\n",
       "    'class Parentclass():\\n    pass',\n",
       "    'class Subclass(Parentclass):\\n    def __init__(self, var:int=10): pass\\n    def update(self): pass\\n    def remove(self): pass',\n",
       "    'inspect.getmodule(Subclass)',\n",
       "    'a = inspect.getfullargspec(Subclass)',\n",
       "    'a.args',\n",
       "    'nbdoc.show_doc(Subclass)',\n",
       "    'nbdoc.get_inner_fts(Subclass)',\n",
       "    \"nbdoc.get_class_toc('__main__', 'Subclass')\",\n",
       "    'def example_function(x:int, cls:Parentclass=None) -> str:\\n    \"\"\"\\n    Provides an example to how docstrings are resolved\\n    :param x: Number to store\\n    :param cls: Class string \\n    :return: Error string\\n    \"\"\"\\n    pass',\n",
       "    'nbdoc.parse_docstring(example_function.__doc__)',\n",
       "    \"nbdoc.show_doc(example_function, arg_comments={'cls': 'Override cls docs'})\",\n",
       "    'def calls_example(x, y):\\n    example_function(x)',\n",
       "    'inspect.getmembers(calls_example)'],\n",
       "   'Out': {6: [('__annotations__',\n",
       "      {'type_alias': typing.Union[float, typing.Collection[float]]}),\n",
       "     ('__call__',\n",
       "      <method-wrapper '__call__' of function object at 0x10c85a7b8>),\n",
       "     ('__class__', function),\n",
       "     ('__closure__', None),\n",
       "     ('__code__',\n",
       "      <code object function_with_type_alias at 0x10c880d20, file \"<ipython-input-5-4f7dd948f8f3>\", line 1>),\n",
       "     ('__defaults__', None),\n",
       "     ('__delattr__',\n",
       "      <method-wrapper '__delattr__' of function object at 0x10c85a7b8>),\n",
       "     ('__dict__', {}),\n",
       "     ('__dir__', <function function.__dir__>),\n",
       "     ('__doc__', None),\n",
       "     ('__eq__', <method-wrapper '__eq__' of function object at 0x10c85a7b8>),\n",
       "     ('__format__', <function function.__format__>),\n",
       "     ('__ge__', <method-wrapper '__ge__' of function object at 0x10c85a7b8>),\n",
       "     ('__get__', <method-wrapper '__get__' of function object at 0x10c85a7b8>),\n",
       "     ('__getattribute__',\n",
       "      <method-wrapper '__getattribute__' of function object at 0x10c85a7b8>),\n",
       "     ('__globals__', {...}),\n",
       "     ('__gt__', <method-wrapper '__gt__' of function object at 0x10c85a7b8>),\n",
       "     ('__hash__',\n",
       "      <method-wrapper '__hash__' of function object at 0x10c85a7b8>),\n",
       "     ('__init__',\n",
       "      <method-wrapper '__init__' of function object at 0x10c85a7b8>),\n",
       "     ('__init_subclass__', <function function.__init_subclass__>),\n",
       "     ('__kwdefaults__', None),\n",
       "     ('__le__', <method-wrapper '__le__' of function object at 0x10c85a7b8>),\n",
       "     ('__lt__', <method-wrapper '__lt__' of function object at 0x10c85a7b8>),\n",
       "     ('__module__', '__main__'),\n",
       "     ('__name__', 'function_with_type_alias'),\n",
       "     ('__ne__', <method-wrapper '__ne__' of function object at 0x10c85a7b8>),\n",
       "     ('__new__', <function function.__new__(*args, **kwargs)>),\n",
       "     ('__qualname__', 'function_with_type_alias'),\n",
       "     ('__reduce__', <function function.__reduce__>),\n",
       "     ('__reduce_ex__', <function function.__reduce_ex__>),\n",
       "     ('__repr__',\n",
       "      <method-wrapper '__repr__' of function object at 0x10c85a7b8>),\n",
       "     ('__setattr__',\n",
       "      <method-wrapper '__setattr__' of function object at 0x10c85a7b8>),\n",
       "     ('__sizeof__', <function function.__sizeof__>),\n",
       "     ('__str__', <method-wrapper '__str__' of function object at 0x10c85a7b8>),\n",
       "     ('__subclasshook__', <function function.__subclasshook__>)],\n",
       "    8: FullArgSpec(args=['type_alias'], varargs=None, varkw=None, defaults=None, kwonlyargs=[], kwonlydefaults=None, annotations={'type_alias': typing.Union[float, typing.Collection[float]]}),\n",
       "    14: <_sre.SRE_Match object; span=(0, 14), match='hello = sdfdsf'>,\n",
       "    24: {'FileLike': 'FileLike = Union[str, Path]',\n",
       "     'Floats': 'Floats = Union[float, Collection[float]]',\n",
       "     'AnnealingFt': 'AnnealingFt = Union[Callable[[float,float,float],float],Callable[[float,float,float,float],float]]'},\n",
       "    26: {'FileLike': 'FileLike = Union[str, Path]',\n",
       "     'Floats': 'Floats = Union[float, Collection[float]]',\n",
       "     'AnnealingFt': 'AnnealingFt = Union[Callable[[float,float,float],float],Callable[[float,float,float,float],float]]'},\n",
       "    28: {'FileLike': 'FileLike = Union[str, Path]',\n",
       "     'Floats': 'Floats = Union[float, Collection[float]]',\n",
       "     'AnnealingFt': 'AnnealingFt = Union[Callable[[float,float,float],float],Callable[[float,float,float,float],float]]'},\n",
       "    30: enum.EnumMeta,\n",
       "    35: <module '__main__'>,\n",
       "    37: ['self', 'var'],\n",
       "    39: ['Subclass.update', 'Subclass.remove'],\n",
       "    42: {'short_description': 'Provides an example to how docstrings are resolved',\n",
       "     'long_description': '',\n",
       "     'args': [{'name': 'x', 'doc': 'Number to store\\n', 'field': 'param'},\n",
       "      {'name': 'cls', 'doc': 'Class string\\n', 'field': 'param'}],\n",
       "     'comments': {'x': 'Number to store\\n', 'cls': 'Class string\\n'},\n",
       "     'return': 'Error string'}},\n",
       "   'get_ipython': <bound method InteractiveShell.get_ipython of <ipykernel.zmqshell.ZMQInteractiveShell object at 0x10c640a20>>,\n",
       "   'exit': <IPython.core.autocall.ZMQExitAutocall at 0x10c697be0>,\n",
       "   'quit': <IPython.core.autocall.ZMQExitAutocall at 0x10c697be0>,\n",
       "   '_': {'short_description': 'Provides an example to how docstrings are resolved',\n",
       "    'long_description': '',\n",
       "    'args': [{'name': 'x', 'doc': 'Number to store\\n', 'field': 'param'},\n",
       "     {'name': 'cls', 'doc': 'Class string\\n', 'field': 'param'}],\n",
       "    'comments': {'x': 'Number to store\\n', 'cls': 'Class string\\n'},\n",
       "    'return': 'Error string'},\n",
       "   '__': ['Subclass.update', 'Subclass.remove'],\n",
       "   '___': ['self', 'var'],\n",
       "   '_i': 'def calls_example(x, y):\\n    example_function(x)',\n",
       "   '_ii': \"nbdoc.show_doc(example_function, arg_comments={'cls': 'Override cls docs'})\",\n",
       "   '_iii': 'nbdoc.parse_docstring(example_function.__doc__)',\n",
       "   '_i1': '%reload_ext autoreload\\n%autoreload 2',\n",
       "   '_i2': 'import gen_doc\\nfrom gen_doc import nbdoc',\n",
       "   'gen_doc': <module 'gen_doc' (namespace)>,\n",
       "   'nbdoc': <module 'gen_doc.nbdoc' from '/Users/andrewshaw/Projects/ML/fastai_v1/docs/example/gen_doc/nbdoc.py'>,\n",
       "   '_i3': 'from enum import IntEnum, Enum\\nimport inspect',\n",
       "   'IntEnum': <enum 'IntEnum'>,\n",
       "   'Enum': <enum 'Enum'>,\n",
       "   'inspect': <module 'inspect' from '/Users/andrewshaw/miniconda3/envs/fastai_v1/lib/python3.6/inspect.py'>,\n",
       "   '_i4': 'from gen_doc.core import *',\n",
       "   'math': <module 'math' from '/Users/andrewshaw/miniconda3/envs/fastai_v1/lib/python3.6/lib-dynload/math.cpython-36m-darwin.so'>,\n",
       "   'np': <module 'numpy' from '/Users/andrewshaw/miniconda3/envs/fastai_v1/lib/python3.6/site-packages/numpy/__init__.py'>,\n",
       "   'plt': <module 'matplotlib.pyplot' from '/Users/andrewshaw/miniconda3/envs/fastai_v1/lib/python3.6/site-packages/matplotlib/pyplot.py'>,\n",
       "   'Path': pathlib.Path,\n",
       "   'dataclass': <function dataclasses.dataclass(_cls=None, *, init=True, repr=True, eq=True, order=False, unsafe_hash=False, frozen=False)>,\n",
       "   'Any': typing.Any,\n",
       "   'Collection': typing.Collection,\n",
       "   'Callable': typing.Callable,\n",
       "   'Union': typing.Union,\n",
       "   'Iterator': typing.Iterator,\n",
       "   'Tuple': typing.Tuple,\n",
       "   'NewType': <function typing.NewType(name, tp)>,\n",
       "   'List': typing.List,\n",
       "   'Sequence': typing.Sequence,\n",
       "   'Dict': typing.Dict,\n",
       "   'partial': functools.partial,\n",
       "   'reduce': <function _functools.reduce>,\n",
       "   'master_bar': fast_progress.fast_progress.NBMasterBar,\n",
       "   'progress_bar': fast_progress.fast_progress.NBProgressBar,\n",
       "   'defaultdict': collections.defaultdict,\n",
       "   'abc': <module 'collections.abc' from '/Users/andrewshaw/miniconda3/envs/fastai_v1/lib/python3.6/collections/abc.py'>,\n",
       "   'namedtuple': <function collections.namedtuple(typename, field_names, *, verbose=False, rename=False, module=None)>,\n",
       "   'Iterable': collections.abc.Iterable,\n",
       "   'FileLike': typing.Union[str, pathlib.Path],\n",
       "   'Floats': typing.Union[float, typing.Collection[float]],\n",
       "   'AnnealingFt': typing.Union[typing.Callable[[float, float, float], float], typing.Callable[[float, float, float, float], float]],\n",
       "   'is_tuple': <function gen_doc.core.is_tuple(x) -> bool>,\n",
       "   'is_listy': <function gen_doc.core.is_listy(x) -> bool>,\n",
       "   'is_iterable': <function gen_doc.core.is_iterable(x) -> bool>,\n",
       "   'listify': <function gen_doc.core.listify(p=None, q=None) -> Collection>,\n",
       "   'SmoothenValue': gen_doc.core.SmoothenValue,\n",
       "   'annealing_no': <function gen_doc.core.annealing_no(start:float, end:float, pct:float) -> float>,\n",
       "   'annealing_linear': <function gen_doc.core.annealing_linear(start:float, end:float, pct:float) -> float>,\n",
       "   'annealing_exp': <function gen_doc.core.annealing_exp(start:float, end:float, pct:float) -> float>,\n",
       "   'annealing_cos': <function gen_doc.core.annealing_cos(start:float, end:float, pct:float) -> float>,\n",
       "   'do_annealing_poly': <function gen_doc.core.do_annealing_poly(start:float, end:float, pct:float, degree:float) -> float>,\n",
       "   'annealing_poly': <function gen_doc.core.annealing_poly(degree:float) -> Callable>,\n",
       "   '_i5': 'def function_with_type_alias(type_alias:Floats):\\n    pass',\n",
       "   'function_with_type_alias': <function __main__.function_with_type_alias(type_alias:Union[float, Collection[float]])>,\n",
       "   '_i6': 'inspect.getmembers(function_with_type_alias)',\n",
       "   '_6': [('__annotations__',\n",
       "     {'type_alias': typing.Union[float, typing.Collection[float]]}),\n",
       "    ('__call__',\n",
       "     <method-wrapper '__call__' of function object at 0x10c85a7b8>),\n",
       "    ('__class__', function),\n",
       "    ('__closure__', None),\n",
       "    ('__code__',\n",
       "     <code object function_with_type_alias at 0x10c880d20, file \"<ipython-input-5-4f7dd948f8f3>\", line 1>),\n",
       "    ('__defaults__', None),\n",
       "    ('__delattr__',\n",
       "     <method-wrapper '__delattr__' of function object at 0x10c85a7b8>),\n",
       "    ('__dict__', {}),\n",
       "    ('__dir__', <function function.__dir__>),\n",
       "    ('__doc__', None),\n",
       "    ('__eq__', <method-wrapper '__eq__' of function object at 0x10c85a7b8>),\n",
       "    ('__format__', <function function.__format__>),\n",
       "    ('__ge__', <method-wrapper '__ge__' of function object at 0x10c85a7b8>),\n",
       "    ('__get__', <method-wrapper '__get__' of function object at 0x10c85a7b8>),\n",
       "    ('__getattribute__',\n",
       "     <method-wrapper '__getattribute__' of function object at 0x10c85a7b8>),\n",
       "    ('__globals__', {...}),\n",
       "    ('__gt__', <method-wrapper '__gt__' of function object at 0x10c85a7b8>),\n",
       "    ('__hash__',\n",
       "     <method-wrapper '__hash__' of function object at 0x10c85a7b8>),\n",
       "    ('__init__',\n",
       "     <method-wrapper '__init__' of function object at 0x10c85a7b8>),\n",
       "    ('__init_subclass__', <function function.__init_subclass__>),\n",
       "    ('__kwdefaults__', None),\n",
       "    ('__le__', <method-wrapper '__le__' of function object at 0x10c85a7b8>),\n",
       "    ('__lt__', <method-wrapper '__lt__' of function object at 0x10c85a7b8>),\n",
       "    ('__module__', '__main__'),\n",
       "    ('__name__', 'function_with_type_alias'),\n",
       "    ('__ne__', <method-wrapper '__ne__' of function object at 0x10c85a7b8>),\n",
       "    ('__new__', <function function.__new__(*args, **kwargs)>),\n",
       "    ('__qualname__', 'function_with_type_alias'),\n",
       "    ('__reduce__', <function function.__reduce__>),\n",
       "    ('__reduce_ex__', <function function.__reduce_ex__>),\n",
       "    ('__repr__',\n",
       "     <method-wrapper '__repr__' of function object at 0x10c85a7b8>),\n",
       "    ('__setattr__',\n",
       "     <method-wrapper '__setattr__' of function object at 0x10c85a7b8>),\n",
       "    ('__sizeof__', <function function.__sizeof__>),\n",
       "    ('__str__', <method-wrapper '__str__' of function object at 0x10c85a7b8>),\n",
       "    ('__subclasshook__', <function function.__subclasshook__>)],\n",
       "   '_i7': 'nbdoc.show_doc(function_with_type_alias)',\n",
       "   '_i8': 'inspect.getfullargspec(function_with_type_alias)',\n",
       "   '_8': FullArgSpec(args=['type_alias'], varargs=None, varkw=None, defaults=None, kwonlyargs=[], kwonlydefaults=None, annotations={'type_alias': typing.Union[float, typing.Collection[float]]}),\n",
       "   '_i9': 'def get_var_docs(fname):\\n    \\'\\'\\'Read the module referenced in fname (often <module>.__file__) and return a\\n    dict with global variables, their value and the \"docstring\" that follows\\n    the definition of the variable\\n    \\'\\'\\'\\n    import ast,os\\n    fname = os.path.splitext(fname)[0]+\\'.py\\' # convert .pyc to .py\\n    with open(fname, \\'r\\') as f:\\n        fstr = f.read()\\n    d = {}\\n    key = None\\n    flines = fstr.splitlines()\\n    for node in ast.walk(ast.parse(fstr)):\\n        if isinstance(node,ast.Assign):\\n            if hasattr(node.targets[0], \\'id\\'):\\n                key = node.targets[0].id\\n                d[key] = flines[node.targets[0].lineno-1]\\n#                 if hasattr(node.value, \\'id\\'):\\n#                     d[key] = [node.value.id,\\'\\']\\n            continue\\n        elif isinstance(node,ast.Expr) and key:\\n            if hasattr(node.value, \\'s\\'):\\n                d[key][1] = node.value.s.strip()\\n        key = None\\n    return d\\n\\ndef is_comment(comment_str):\\n    ',\n",
       "   '_i10': 'REGEX = re.compile(f\"^{key} = .*\")',\n",
       "   '_i11': 'import re\\nREGEX = re.compile(f\"^{key} = .*\")',\n",
       "   're': <module 're' from '/Users/andrewshaw/miniconda3/envs/fastai_v1/lib/python3.6/re.py'>,\n",
       "   '_i12': \"key = 'hello'\",\n",
       "   'key': 'hello',\n",
       "   '_i13': 'import re\\nREGEX = re.compile(f\"^{key} = .*\")',\n",
       "   'REGEX': re.compile(r'^hello = .*', re.UNICODE),\n",
       "   '_i14': \"REGEX.match('hello = sdfdsf')\",\n",
       "   '_14': <_sre.SRE_Match object; span=(0, 14), match='hello = sdfdsf'>,\n",
       "   '_i15': \"m = REGEX.match('hello = sdfdsf')\",\n",
       "   'm': None,\n",
       "   '_i16': \"m = REGEX.match('helljo = sdfdsf')\",\n",
       "   '_i17': \"m = REGEX.match('helljo = sdfdsf'); m\",\n",
       "   '_i18': 'def get_var_docs(fname):\\n    \\'\\'\\'Read the module referenced in fname (often <module>.__file__) and return a\\n    dict with global variables, their value and the \"docstring\" that follows\\n    the definition of the variable\\n    \\'\\'\\'\\n    import ast,os\\n    fname = os.path.splitext(fname)[0]+\\'.py\\' # convert .pyc to .py\\n    with open(fname, \\'r\\') as f:\\n        fstr = f.read()\\n    d = {}\\n    key = None\\n    flines = fstr.splitlines()\\n    for node in ast.walk(ast.parse(fstr)):\\n        if isinstance(node,ast.Assign):\\n            if hasattr(node.targets[0], \\'id\\'):\\n                key = node.targets[0].id\\n                codestr = flines[node.targets[0].lineno-1]\\n                import re\\n                REGEX = re.compile(f\"^{key} = .*\")\\n                if re.match(f\"^{key} = .*\", codestr) # only top level assignment\\n                    d[key] = flines[node.targets[0].lineno-1]\\n#                 if hasattr(node.value, \\'id\\'):\\n#                     d[key] = [node.value.id,\\'\\']\\n            continue\\n        elif isinstance(node,ast.Expr) and key:\\n            if hasattr(node.value, \\'s\\'):\\n                d[key][1] = node.value.s.strip()\\n        key = None\\n    return d',\n",
       "   '_i19': 'def get_var_docs(fname):\\n    \\'\\'\\'Read the module referenced in fname (often <module>.__file__) and return a\\n    dict with global variables, their value and the \"docstring\" that follows\\n    the definition of the variable\\n    \\'\\'\\'\\n    import ast,os,re\\n    fname = os.path.splitext(fname)[0]+\\'.py\\' # convert .pyc to .py\\n    with open(fname, \\'r\\') as f:\\n        fstr = f.read()\\n    d = {}\\n    key = None\\n    flines = fstr.splitlines()\\n    for node in ast.walk(ast.parse(fstr)):\\n        if isinstance(node,ast.Assign):\\n            if hasattr(node.targets[0], \\'id\\'):\\n                key = node.targets[0].id\\n                codestr = flines[node.targets[0].lineno-1]\\n                if re.match(f\"^{key} = .*\", codestr) # only top level assignment\\n                    d[key] = flines[node.targets[0].lineno-1]\\n#                 if hasattr(node.value, \\'id\\'):\\n#                     d[key] = [node.value.id,\\'\\']\\n            continue\\n        elif isinstance(node,ast.Expr) and key:\\n            if hasattr(node.value, \\'s\\'):\\n                d[key][1] = node.value.s.strip()\\n        key = None\\n    return d',\n",
       "   '_i20': 'def get_var_docs(fname):\\n    \\'\\'\\'Read the module referenced in fname (often <module>.__file__) and return a\\n    dict with global variables, their value and the \"docstring\" that follows\\n    the definition of the variable\\n    \\'\\'\\'\\n    import ast,os,re\\n    fname = os.path.splitext(fname)[0]+\\'.py\\' # convert .pyc to .py\\n    with open(fname, \\'r\\') as f:\\n        fstr = f.read()\\n    d = {}\\n    key = None\\n    flines = fstr.splitlines()\\n    for node in ast.walk(ast.parse(fstr)):\\n        if isinstance(node,ast.Assign):\\n            if hasattr(node.targets[0], \\'id\\'):\\n                key = node.targets[0].id\\n                codestr = flines[node.targets[0].lineno-1]\\n                if re.match(f\"^{key} = .*\", codestr) \\n                    d[key] = flines[node.targets[0].lineno-1]\\n#                 if hasattr(node.value, \\'id\\'):\\n#                     d[key] = [node.value.id,\\'\\']\\n            continue\\n        elif isinstance(node,ast.Expr) and key:\\n            if hasattr(node.value, \\'s\\'):\\n                d[key][1] = node.value.s.strip()\\n        key = None\\n    return d',\n",
       "   '_i21': 'def get_var_docs(fname):\\n    \\'\\'\\'Read the module referenced in fname (often <module>.__file__) and return a\\n    dict with global variables, their value and the \"docstring\" that follows\\n    the definition of the variable\\n    \\'\\'\\'\\n    import ast,os,re\\n    fname = os.path.splitext(fname)[0]+\\'.py\\' # convert .pyc to .py\\n    with open(fname, \\'r\\') as f:\\n        fstr = f.read()\\n    d = {}\\n    key = None\\n    flines = fstr.splitlines()\\n    for node in ast.walk(ast.parse(fstr)):\\n        if isinstance(node,ast.Assign):\\n            if hasattr(node.targets[0], \\'id\\'):\\n                key = node.targets[0].id\\n                codestr = flines[node.targets[0].lineno-1]\\n#                 if re.match(f\"^{key} = .*\", codestr) \\n#                     d[key] = flines[node.targets[0].lineno-1]\\n#                 if hasattr(node.value, \\'id\\'):\\n#                     d[key] = [node.value.id,\\'\\']\\n            continue\\n        elif isinstance(node,ast.Expr) and key:\\n            if hasattr(node.value, \\'s\\'):\\n                d[key][1] = node.value.s.strip()\\n        key = None\\n    return d',\n",
       "   'get_var_docs': <function __main__.get_var_docs(fname)>,\n",
       "   '_i22': 'def get_var_docs(fname):\\n    \\'\\'\\'Read the module referenced in fname (often <module>.__file__) and return a\\n    dict with global variables, their value and the \"docstring\" that follows\\n    the definition of the variable\\n    \\'\\'\\'\\n    import ast,os,re\\n    fname = os.path.splitext(fname)[0]+\\'.py\\' # convert .pyc to .py\\n    with open(fname, \\'r\\') as f:\\n        fstr = f.read()\\n    d = {}\\n    key = None\\n    flines = fstr.splitlines()\\n    for node in ast.walk(ast.parse(fstr)):\\n        if isinstance(node,ast.Assign):\\n            if hasattr(node.targets[0], \\'id\\'):\\n                key = node.targets[0].id\\n                codestr = flines[node.targets[0].lineno-1]\\n                if re.match(f\"^{key} = .*\", codestr): # only top level assignment\\n                    d[key] = flines[node.targets[0].lineno-1]\\n#                 if hasattr(node.value, \\'id\\'):\\n#                     d[key] = [node.value.id,\\'\\']\\n            continue\\n        elif isinstance(node,ast.Expr) and key:\\n            if hasattr(node.value, \\'s\\'):\\n                d[key][1] = node.value.s.strip()\\n        key = None\\n    return d',\n",
       "   '_i23': \"GetVarDocs('../../fastai/core.py')\",\n",
       "   '_i24': \"get_var_docs('../../fastai/core.py')\",\n",
       "   '_24': {'FileLike': 'FileLike = Union[str, Path]',\n",
       "    'Floats': 'Floats = Union[float, Collection[float]]',\n",
       "    'AnnealingFt': 'AnnealingFt = Union[Callable[[float,float,float],float],Callable[[float,float,float,float],float]]'},\n",
       "   '_i25': 'def get_global_types(fname):\\n    \\'\\'\\'Read the module referenced in fname (often <module>.__file__) and return a\\n    dict with global variables, their value and the \"docstring\" that follows\\n    the definition of the variable\\n    \\'\\'\\'\\n    import ast,os,re\\n    fname = os.path.splitext(fname)[0]+\\'.py\\' # convert .pyc to .py\\n    with open(fname, \\'r\\') as f:\\n        fstr = f.read()\\n    d = {}\\n    key = None\\n    flines = fstr.splitlines()\\n    for node in ast.walk(ast.parse(fstr)):\\n        if isinstance(node,ast.Assign):\\n            if hasattr(node.targets[0], \\'id\\'):\\n                key = node.targets[0].id\\n                codestr = flines[node.targets[0].lineno-1]\\n                if re.match(f\"^{key} = .*\", codestr): # only top level assignment\\n                    d[key] = flines[node.targets[0].lineno-1]\\n#                 if hasattr(node.value, \\'id\\'):\\n#                     d[key] = [node.value.id,\\'\\']\\n            continue\\n        elif isinstance(node,ast.Expr) and key:\\n            if hasattr(node.value, \\'s\\'):\\n                d[key][1] = node.value.s.strip()\\n        key = None\\n    return d',\n",
       "   'get_global_types': <function __main__.get_global_types(fname)>,\n",
       "   '_i26': \"get_var_docs('../../fastai/core.py')\",\n",
       "   '_26': {'FileLike': 'FileLike = Union[str, Path]',\n",
       "    'Floats': 'Floats = Union[float, Collection[float]]',\n",
       "    'AnnealingFt': 'AnnealingFt = Union[Callable[[float,float,float],float],Callable[[float,float,float,float],float]]'},\n",
       "   '_i27': 'def get_globals(fname):\\n    \\'\\'\\'Read the module referenced in fname (often <module>.__file__) and return a\\n    dict with global variables, their value and the \"docstring\" that follows\\n    the definition of the variable\\n    \\'\\'\\'\\n    import ast,os,re\\n    fname = os.path.splitext(fname)[0]+\\'.py\\' # convert .pyc to .py\\n    with open(fname, \\'r\\') as f:\\n        fstr = f.read()\\n    d = {}\\n    key = None\\n    flines = fstr.splitlines()\\n    for node in ast.walk(ast.parse(fstr)):\\n        if isinstance(node,ast.Assign):\\n            if hasattr(node.targets[0], \\'id\\'):\\n                key = node.targets[0].id\\n                codestr = flines[node.targets[0].lineno-1]\\n                if re.match(f\"^{key} = .*\", codestr): # only top level assignment\\n                    d[key] = flines[node.targets[0].lineno-1]\\n#                 if hasattr(node.value, \\'id\\'):\\n#                     d[key] = [node.value.id,\\'\\']\\n            continue\\n        elif isinstance(node,ast.Expr) and key:\\n            if hasattr(node.value, \\'s\\'):\\n                d[key][1] = node.value.s.strip()\\n        key = None\\n    return d',\n",
       "   'get_globals': <function __main__.get_globals(fname)>,\n",
       "   '_i28': \"get_var_docs('../../fastai/core.py')\",\n",
       "   '_28': {'FileLike': 'FileLike = Union[str, Path]',\n",
       "    'Floats': 'Floats = Union[float, Collection[float]]',\n",
       "    'AnnealingFt': 'AnnealingFt = Union[Callable[[float,float,float],float],Callable[[float,float,float,float],float]]'},\n",
       "   '_i29': \"TfmY = IntEnum('TfmY', 'No Pixel Mask Coord BBox')\",\n",
       "   'TfmY': <enum 'TfmY'>,\n",
       "   '_i30': 'type(TfmY)',\n",
       "   '_30': enum.EnumMeta,\n",
       "   '_i31': 'nbdoc.show_doc(TfmY)',\n",
       "   '_i32': 'from gen_doc.docstrings import *',\n",
       "   'parse_docstring': <function gen_doc.docstrings.parse_docstring(docstring)>,\n",
       "   '_i33': 'class Parentclass():\\n    pass',\n",
       "   'Parentclass': __main__.Parentclass,\n",
       "   '_i34': 'class Subclass(Parentclass):\\n    def __init__(self, var:int=10): pass\\n    def update(self): pass\\n    def remove(self): pass',\n",
       "   'Subclass': __main__.Subclass,\n",
       "   '_i35': 'inspect.getmodule(Subclass)',\n",
       "   '_35': <module '__main__'>,\n",
       "   '_i36': 'a = inspect.getfullargspec(Subclass)',\n",
       "   'a': FullArgSpec(args=['self', 'var'], varargs=None, varkw=None, defaults=(10,), kwonlyargs=[], kwonlydefaults=None, annotations={'var': <class 'int'>}),\n",
       "   '_i37': 'a.args',\n",
       "   '_37': ['self', 'var'],\n",
       "   '_i38': 'nbdoc.show_doc(Subclass)',\n",
       "   '_i39': 'nbdoc.get_inner_fts(Subclass)',\n",
       "   '_39': ['Subclass.update', 'Subclass.remove'],\n",
       "   '_i40': \"nbdoc.get_class_toc('__main__', 'Subclass')\",\n",
       "   '_i41': 'def example_function(x:int, cls:Parentclass=None) -> str:\\n    \"\"\"\\n    Provides an example to how docstrings are resolved\\n    :param x: Number to store\\n    :param cls: Class string \\n    :return: Error string\\n    \"\"\"\\n    pass',\n",
       "   'example_function': <function __main__.example_function(x:int, cls:__main__.Parentclass=None) -> str>,\n",
       "   '_i42': 'nbdoc.parse_docstring(example_function.__doc__)',\n",
       "   '_42': {'short_description': 'Provides an example to how docstrings are resolved',\n",
       "    'long_description': '',\n",
       "    'args': [{'name': 'x', 'doc': 'Number to store\\n', 'field': 'param'},\n",
       "     {'name': 'cls', 'doc': 'Class string\\n', 'field': 'param'}],\n",
       "    'comments': {'x': 'Number to store\\n', 'cls': 'Class string\\n'},\n",
       "    'return': 'Error string'},\n",
       "   '_i43': \"nbdoc.show_doc(example_function, arg_comments={'cls': 'Override cls docs'})\",\n",
       "   '_i44': 'def calls_example(x, y):\\n    example_function(x)',\n",
       "   'calls_example': <function __main__.calls_example(x, y)>,\n",
       "   '_i45': 'inspect.getmembers(calls_example)'}),\n",
       " ('__gt__', <method-wrapper '__gt__' of function object at 0x11a362bf8>),\n",
       " ('__hash__', <method-wrapper '__hash__' of function object at 0x11a362bf8>),\n",
       " ('__init__', <method-wrapper '__init__' of function object at 0x11a362bf8>),\n",
       " ('__init_subclass__', <function function.__init_subclass__>),\n",
       " ('__kwdefaults__', None),\n",
       " ('__le__', <method-wrapper '__le__' of function object at 0x11a362bf8>),\n",
       " ('__lt__', <method-wrapper '__lt__' of function object at 0x11a362bf8>),\n",
       " ('__module__', '__main__'),\n",
       " ('__name__', 'calls_example'),\n",
       " ('__ne__', <method-wrapper '__ne__' of function object at 0x11a362bf8>),\n",
       " ('__new__', <function function.__new__(*args, **kwargs)>),\n",
       " ('__qualname__', 'calls_example'),\n",
       " ('__reduce__', <function function.__reduce__>),\n",
       " ('__reduce_ex__', <function function.__reduce_ex__>),\n",
       " ('__repr__', <method-wrapper '__repr__' of function object at 0x11a362bf8>),\n",
       " ('__setattr__',\n",
       "  <method-wrapper '__setattr__' of function object at 0x11a362bf8>),\n",
       " ('__sizeof__', <function function.__sizeof__>),\n",
       " ('__str__', <method-wrapper '__str__' of function object at 0x11a362bf8>),\n",
       " ('__subclasshook__', <function function.__subclasshook__>)]"
      ]
     },
     "execution_count": null,
     "metadata": {},
     "output_type": "execute_result"
    }
   ],
   "source": [
    "inspect.getmembers(calls_example)"
   ]
  },
  {
   "cell_type": "code",
   "execution_count": null,
   "metadata": {},
   "outputs": [],
   "source": [
    "a = \"dsfjkdsl\""
   ]
  },
  {
   "cell_type": "code",
   "execution_count": null,
   "metadata": {},
   "outputs": [],
   "source": [
    "a.split()"
   ]
  },
  {
   "cell_type": "code",
   "execution_count": null,
   "metadata": {},
   "outputs": [],
   "source": [
    "def GetVarDocs(fname):\n",
    "    '''Read the module referenced in fname (often <module>.__file__) and return a\n",
    "    dict with global variables, their value and the \"docstring\" that follows\n",
    "    the definition of the variable\n",
    "    '''\n",
    "    import ast,os\n",
    "    fname = os.path.splitext(fname)[0]+'.py' # convert .pyc to .py\n",
    "    with open(fname, 'r') as f:\n",
    "        fstr = f.read()\n",
    "    d = {}\n",
    "    key = None\n",
    "    for node in ast.walk(ast.parse(fstr)):\n",
    "        if isinstance(node,ast.Assign):\n",
    "            key = node.targets[0].id\n",
    "            d[key] = [node.value.id,'']\n",
    "            continue\n",
    "        elif isinstance(node,ast.Expr) and key:\n",
    "            d[key][1] = node.value.s.strip()\n",
    "        key = None\n",
    "    return d"
   ]
  },
  {
   "cell_type": "code",
   "execution_count": null,
   "metadata": {},
   "outputs": [],
   "source": [
    "a = 3\n",
    "'''\n",
    "Tst doc string\n",
    "'''"
   ]
  },
  {
   "cell_type": "markdown",
   "metadata": {},
   "source": [
    "### REGEX"
   ]
  },
  {
   "cell_type": "code",
   "execution_count": null,
   "metadata": {},
   "outputs": [],
   "source": [
    "import re\n",
    "\n",
    "PARAM_OR_RETURN_REGEX = re.compile(\":(?:param|return|val)\")\n",
    "RETURN_REGEX = re.compile(\":return: (?P<doc>.*)\", re.S)\n",
    "PARAM_REGEX = re.compile(\":param (?P<name>[\\*\\w]+): (?P<doc>.*?)\"\n",
    "                         \"(?:(?=:param)|(?=:return)|(?=:raises)|\\Z)\", re.S)\n",
    "VAL_REGEX = re.compile(\":val (?P<name>[\\*\\w]+): (?P<doc>.*?)\"\n",
    "                         \"(?:(?=:val)|(?=:return)|(?=:raises)|\\Z)\", re.S)\n"
   ]
  },
  {
   "cell_type": "code",
   "execution_count": null,
   "metadata": {},
   "outputs": [],
   "source": [
    "test =     \"\"\"Parse the docstring into its components.\n",
    "    :val fdsfs: ewrew\n",
    "    :param asdf: sdfsd\n",
    "    :param dsfg: rejw\n",
    "    :param jferw: rejw\n",
    "    :return: a dictionary of form\n",
    "    \"\"\""
   ]
  },
  {
   "cell_type": "code",
   "execution_count": null,
   "metadata": {},
   "outputs": [],
   "source": [
    "\n",
    "NEW_REGEX = re.compile(\":(param|val) (?P<name>[\\*\\w]+): (?P<doc>.*?)\"\n",
    "                         \"(?:(?=:(?:val|param|return|raises))|\\Z)\", re.S)"
   ]
  },
  {
   "cell_type": "code",
   "execution_count": null,
   "metadata": {},
   "outputs": [],
   "source": [
    "NEW_REGEX.findall(test)"
   ]
  },
  {
   "cell_type": "code",
   "execution_count": null,
   "metadata": {},
   "outputs": [],
   "source": [
    "NEW_REGEX.findall(example_function.__doc__)"
   ]
  },
  {
   "cell_type": "code",
   "execution_count": null,
   "metadata": {},
   "outputs": [],
   "source": [
    "PARAM_REGEX.findall(test)"
   ]
  },
  {
   "cell_type": "markdown",
   "metadata": {},
   "source": [
    "## Regex for cells"
   ]
  },
  {
   "cell_type": "code",
   "execution_count": null,
   "metadata": {},
   "outputs": [],
   "source": [
    "from sphinx.ext import autodoc"
   ]
  },
  {
   "cell_type": "code",
   "execution_count": null,
   "metadata": {},
   "outputs": [],
   "source": [
    "import gen_doc"
   ]
  },
  {
   "cell_type": "code",
   "execution_count": null,
   "metadata": {},
   "outputs": [],
   "source": [
    "from gen_doc import nbdoc"
   ]
  },
  {
   "cell_type": "code",
   "execution_count": null,
   "metadata": {},
   "outputs": [],
   "source": [
    "class Test():\n",
    "    \"\"\"\n",
    "    First line\n",
    "    :param t: fdsf\n",
    "    \"\"\"\n",
    "    def __init__(self, t):\n",
    "        pass"
   ]
  },
  {
   "cell_type": "code",
   "execution_count": null,
   "metadata": {},
   "outputs": [],
   "source": [
    "autodoc.object_description(function_with_type_alias)"
   ]
  },
  {
   "cell_type": "code",
   "execution_count": null,
   "metadata": {},
   "outputs": [],
   "source": [
    "autodoc.getdoc(Test);"
   ]
  },
  {
   "cell_type": "code",
   "execution_count": null,
   "metadata": {},
   "outputs": [],
   "source": [
    "key = 'hello'"
   ]
  },
  {
   "cell_type": "code",
   "execution_count": null,
   "metadata": {},
   "outputs": [],
   "source": [
    "import re\n",
    "REGEX = re.compile(f\"^{key} = .*\")"
   ]
  },
  {
   "cell_type": "code",
   "execution_count": null,
   "metadata": {},
   "outputs": [],
   "source": [
    "m = REGEX.match('helljo = sdfdsf'); m"
   ]
  },
  {
   "cell_type": "code",
   "execution_count": null,
   "metadata": {},
   "outputs": [],
   "source": [
    "re.match(f\"^{key} = .*\", codestr)"
   ]
  },
  {
   "cell_type": "code",
   "execution_count": null,
   "metadata": {},
   "outputs": [],
   "source": [
    "def get_globals(fname):\n",
    "    '''Read the module referenced in fname (often <module>.__file__) and return a\n",
    "    dict with global variables, their value and the \"docstring\" that follows\n",
    "    the definition of the variable\n",
    "    '''\n",
    "    import ast,os,re\n",
    "    fname = os.path.splitext(fname)[0]+'.py' # convert .pyc to .py\n",
    "    with open(fname, 'r') as f:\n",
    "        fstr = f.read()\n",
    "    d = {}\n",
    "    key = None\n",
    "    flines = fstr.splitlines()\n",
    "    for node in ast.walk(ast.parse(fstr)):\n",
    "        if isinstance(node,ast.Assign):\n",
    "            if hasattr(node.targets[0], 'id'):\n",
    "                key = node.targets[0].id\n",
    "                codestr = flines[node.targets[0].lineno-1]\n",
    "                if re.match(f\"^{key} = .*\", codestr): # only top level assignment\n",
    "                    d[key] = flines[node.targets[0].lineno-1]\n",
    "#                 if hasattr(node.value, 'id'):\n",
    "#                     d[key] = [node.value.id,'']\n",
    "            continue\n",
    "        elif isinstance(node,ast.Expr) and key:\n",
    "            if hasattr(node.value, 's'):\n",
    "                d[key][1] = node.value.s.strip()\n",
    "        key = None\n",
    "    return d"
   ]
  },
  {
   "cell_type": "code",
   "execution_count": null,
   "metadata": {},
   "outputs": [
    {
     "data": {
      "text/plain": [
       "{'FileLike': 'FileLike = Union[str, Path]',\n",
       " 'Floats': 'Floats = Union[float, Collection[float]]',\n",
       " 'AnnealingFt': 'AnnealingFt = Union[Callable[[float,float,float],float],Callable[[float,float,float,float],float]]'}"
      ]
     },
     "execution_count": null,
     "metadata": {},
     "output_type": "execute_result"
    }
   ],
   "source": [
    "get_var_docs('../../fastai/core.py')"
   ]
  },
  {
   "cell_type": "code",
   "execution_count": null,
   "metadata": {},
   "outputs": [],
   "source": [
    "fstr.splitlines()"
   ]
  },
  {
   "cell_type": "code",
   "execution_count": null,
   "metadata": {},
   "outputs": [],
   "source": [
    "import ast, os\n",
    "fname = os.path.splitext('../../fastai/core.py')[0]+'.py' # convert .pyc to .py\n",
    "with open(fname, 'r') as f:\n",
    "    fstr = f.read()\n",
    "d = {}\n",
    "key = None"
   ]
  },
  {
   "cell_type": "code",
   "execution_count": null,
   "metadata": {},
   "outputs": [],
   "source": [
    "nl = ast.walk(ast.parse(fstr))"
   ]
  },
  {
   "cell_type": "code",
   "execution_count": null,
   "metadata": {},
   "outputs": [],
   "source": [
    "node = next(nl); node"
   ]
  },
  {
   "cell_type": "code",
   "execution_count": null,
   "metadata": {},
   "outputs": [],
   "source": [
    "t = node.targets[0]"
   ]
  },
  {
   "cell_type": "code",
   "execution_count": null,
   "metadata": {},
   "outputs": [],
   "source": [
    "t.id"
   ]
  },
  {
   "cell_type": "code",
   "execution_count": null,
   "metadata": {},
   "outputs": [],
   "source": []
  },
  {
   "cell_type": "code",
   "execution_count": null,
   "metadata": {},
   "outputs": [],
   "source": [
    "globals().keys()"
   ]
  },
  {
   "cell_type": "code",
   "execution_count": null,
   "metadata": {},
   "outputs": [],
   "source": [
    "v = node.value"
   ]
  },
  {
   "cell_type": "code",
   "execution_count": null,
   "metadata": {},
   "outputs": [],
   "source": [
    "v.value.id"
   ]
  },
  {
   "cell_type": "code",
   "execution_count": null,
   "metadata": {},
   "outputs": [],
   "source": []
  },
  {
   "cell_type": "code",
   "execution_count": null,
   "metadata": {},
   "outputs": [],
   "source": [
    "lines = fstr.splitlines()"
   ]
  },
  {
   "cell_type": "code",
   "execution_count": null,
   "metadata": {},
   "outputs": [],
   "source": [
    "lines[t.lineno]"
   ]
  },
  {
   "cell_type": "code",
   "execution_count": null,
   "metadata": {},
   "outputs": [],
   "source": [
    "GetVarDocs('../gen_doc/nbdoc.py')"
   ]
  },
  {
   "cell_type": "code",
   "execution_count": null,
   "metadata": {},
   "outputs": [],
   "source": [
    "ls = autodoc.import_object('gen_doc.nbdoc', '')"
   ]
  },
  {
   "cell_type": "code",
   "execution_count": null,
   "metadata": {},
   "outputs": [],
   "source": [
    "autodoc.getdoc(nbdoc.get_class_toc)"
   ]
  },
  {
   "cell_type": "code",
   "execution_count": null,
   "metadata": {},
   "outputs": [],
   "source": [
    "#: inline comment\n",
    "gvar = 3.9\n",
    "\"\"\"post comment\"\"\""
   ]
  },
  {
   "cell_type": "code",
   "execution_count": null,
   "metadata": {},
   "outputs": [],
   "source": [
    "from gen_doc import core"
   ]
  },
  {
   "cell_type": "code",
   "execution_count": null,
   "metadata": {},
   "outputs": [],
   "source": [
    "autodoc.object_description(core.Floats)"
   ]
  },
  {
   "cell_type": "code",
   "execution_count": null,
   "metadata": {},
   "outputs": [],
   "source": [
    "autodoc.getdoc(core.Floats)"
   ]
  },
  {
   "cell_type": "code",
   "execution_count": null,
   "metadata": {},
   "outputs": [],
   "source": [
    "autodoc.format_annotation(gvar)"
   ]
  },
  {
   "cell_type": "code",
   "execution_count": null,
   "metadata": {},
   "outputs": [],
   "source": [
    "autodoc.formatargspec(gvar, )"
   ]
  },
  {
   "cell_type": "code",
   "execution_count": null,
   "metadata": {},
   "outputs": [],
   "source": [
    "autodoc.getdoc(gvar)"
   ]
  },
  {
   "cell_type": "markdown",
   "metadata": {},
   "source": [
    "### Document floats"
   ]
  },
  {
   "cell_type": "code",
   "execution_count": null,
   "metadata": {},
   "outputs": [],
   "source": [
    "from typing import Any, Collection, Callable, Union, Iterator, Tuple, NewType, List, Sequence, Dict"
   ]
  },
  {
   "cell_type": "code",
   "execution_count": null,
   "metadata": {},
   "outputs": [],
   "source": [
    "from pathlib import Path"
   ]
  },
  {
   "cell_type": "code",
   "execution_count": null,
   "metadata": {},
   "outputs": [],
   "source": [
    "#: Top line comment\n",
    "FileLike = Union[str, Path] # inline comment\n",
    "\"\"\"Bottom comment\"\"\"\n",
    "Floats = Union[float, Collection[float]]"
   ]
  },
  {
   "cell_type": "code",
   "execution_count": null,
   "metadata": {},
   "outputs": [],
   "source": [
    "autodoc.object_description(FileLike)"
   ]
  },
  {
   "cell_type": "code",
   "execution_count": null,
   "metadata": {},
   "outputs": [],
   "source": [
    "autodoc."
   ]
  },
  {
   "cell_type": "code",
   "execution_count": null,
   "metadata": {},
   "outputs": [],
   "source": [
    "import pkgutil, inspect, sys,os, importlib,json,enum,warnings,nbformat,re"
   ]
  },
  {
   "cell_type": "code",
   "execution_count": null,
   "metadata": {},
   "outputs": [],
   "source": [
    "mod = importlib.import_module('__main__')\n",
    "ft_names = mod.__all__ if hasattr(mod,'__all__') else get_ft_names(mod)"
   ]
  },
  {
   "cell_type": "code",
   "execution_count": null,
   "metadata": {},
   "outputs": [],
   "source": [
    "dir(mod)"
   ]
  },
  {
   "cell_type": "markdown",
   "metadata": {},
   "source": [
    "### Testing core"
   ]
  },
  {
   "cell_type": "code",
   "execution_count": null,
   "metadata": {},
   "outputs": [],
   "source": [
    "from gen_doc import core"
   ]
  },
  {
   "cell_type": "code",
   "execution_count": null,
   "metadata": {},
   "outputs": [
    {
     "data": {
      "text/plain": [
       "['AnnealingFt',\n",
       " 'Any',\n",
       " 'Callable',\n",
       " 'Collection',\n",
       " 'Dict',\n",
       " 'FileLike',\n",
       " 'Floats',\n",
       " 'Iterable',\n",
       " 'Iterator',\n",
       " 'List',\n",
       " 'NewType',\n",
       " 'Path',\n",
       " 'Sequence',\n",
       " 'SmoothenValue',\n",
       " 'Tuple',\n",
       " 'Union',\n",
       " '__builtins__',\n",
       " '__cached__',\n",
       " '__doc__',\n",
       " '__file__',\n",
       " '__loader__',\n",
       " '__name__',\n",
       " '__package__',\n",
       " '__spec__',\n",
       " 'abc',\n",
       " 'annealing_cos',\n",
       " 'annealing_exp',\n",
       " 'annealing_linear',\n",
       " 'annealing_no',\n",
       " 'annealing_poly',\n",
       " 'dataclass',\n",
       " 'defaultdict',\n",
       " 'do_annealing_poly',\n",
       " 'is_iterable',\n",
       " 'is_listy',\n",
       " 'is_tuple',\n",
       " 'listify',\n",
       " 'master_bar',\n",
       " 'math',\n",
       " 'namedtuple',\n",
       " 'np',\n",
       " 'partial',\n",
       " 'plt',\n",
       " 'progress_bar',\n",
       " 'reduce']"
      ]
     },
     "execution_count": null,
     "metadata": {},
     "output_type": "execute_result"
    }
   ],
   "source": [
    "dir(core)"
   ]
  },
  {
   "cell_type": "code",
   "execution_count": null,
   "metadata": {},
   "outputs": [],
   "source": [
    "elt = getattr(core, 'AnnealingFt')"
   ]
  },
  {
   "cell_type": "code",
   "execution_count": null,
   "metadata": {},
   "outputs": [
    {
     "data": {
      "text/plain": [
       "typing.Union"
      ]
     },
     "execution_count": null,
     "metadata": {},
     "output_type": "execute_result"
    }
   ],
   "source": [
    "elt.__class__"
   ]
  },
  {
   "cell_type": "code",
   "execution_count": null,
   "metadata": {},
   "outputs": [],
   "source": [
    "from gen_doc import gen_notebooks"
   ]
  },
  {
   "cell_type": "code",
   "execution_count": null,
   "metadata": {},
   "outputs": [
    {
     "ename": "TypeError",
     "evalue": "typing.Union[typing.Callable[[float, float, float], float], typing.Callable[[float, float, float, float], float]] is not a module, class, method, function, traceback, frame, or code object",
     "output_type": "error",
     "traceback": [
      "\u001b[0;31m---------------------------------------------------------------------------\u001b[0m",
      "\u001b[0;31mTypeError\u001b[0m                                 Traceback (most recent call last)",
      "\u001b[0;32m<ipython-input-64-7b02f8b22d69>\u001b[0m in \u001b[0;36m<module>\u001b[0;34m()\u001b[0m\n\u001b[0;32m----> 1\u001b[0;31m \u001b[0minspect\u001b[0m\u001b[0;34m.\u001b[0m\u001b[0mgetfile\u001b[0m\u001b[0;34m(\u001b[0m\u001b[0mcore\u001b[0m\u001b[0;34m.\u001b[0m\u001b[0mAnnealingFt\u001b[0m\u001b[0;34m)\u001b[0m\u001b[0;34m\u001b[0m\u001b[0m\n\u001b[0m",
      "\u001b[0;32m~/miniconda3/envs/fastai_v1/lib/python3.6/inspect.py\u001b[0m in \u001b[0;36mgetfile\u001b[0;34m(object)\u001b[0m\n\u001b[1;32m    664\u001b[0m         \u001b[0;32mreturn\u001b[0m \u001b[0mobject\u001b[0m\u001b[0;34m.\u001b[0m\u001b[0mco_filename\u001b[0m\u001b[0;34m\u001b[0m\u001b[0m\n\u001b[1;32m    665\u001b[0m     raise TypeError('{!r} is not a module, class, method, '\n\u001b[0;32m--> 666\u001b[0;31m                     'function, traceback, frame, or code object'.format(object))\n\u001b[0m\u001b[1;32m    667\u001b[0m \u001b[0;34m\u001b[0m\u001b[0m\n\u001b[1;32m    668\u001b[0m \u001b[0;32mdef\u001b[0m \u001b[0mgetmodulename\u001b[0m\u001b[0;34m(\u001b[0m\u001b[0mpath\u001b[0m\u001b[0;34m)\u001b[0m\u001b[0;34m:\u001b[0m\u001b[0;34m\u001b[0m\u001b[0m\n",
      "\u001b[0;31mTypeError\u001b[0m: typing.Union[typing.Callable[[float, float, float], float], typing.Callable[[float, float, float, float], float]] is not a module, class, method, function, traceback, frame, or code object"
     ]
    }
   ],
   "source": [
    "inspect.getfile(core.AnnealingFt)"
   ]
  },
  {
   "cell_type": "code",
   "execution_count": null,
   "metadata": {},
   "outputs": [
    {
     "name": "stdout",
     "output_type": "stream",
     "text": [
      "Is type alias False Callable /Users/andrewshaw/Projects/ML/fastai_v1/docs/example/gen_doc/core.py\n",
      "Is type alias False Collection /Users/andrewshaw/Projects/ML/fastai_v1/docs/example/gen_doc/core.py\n",
      "Is type alias False Dict /Users/andrewshaw/Projects/ML/fastai_v1/docs/example/gen_doc/core.py\n",
      "Is type alias False Iterable /Users/andrewshaw/Projects/ML/fastai_v1/docs/example/gen_doc/core.py\n",
      "Is type alias False Iterator /Users/andrewshaw/Projects/ML/fastai_v1/docs/example/gen_doc/core.py\n",
      "Is type alias False List /Users/andrewshaw/Projects/ML/fastai_v1/docs/example/gen_doc/core.py\n",
      "Is type alias False NewType /Users/andrewshaw/Projects/ML/fastai_v1/docs/example/gen_doc/core.py\n",
      "Is type alias False Path /Users/andrewshaw/Projects/ML/fastai_v1/docs/example/gen_doc/core.py\n",
      "Is type alias False Sequence /Users/andrewshaw/Projects/ML/fastai_v1/docs/example/gen_doc/core.py\n",
      "Is type alias False SmoothenValue /Users/andrewshaw/Projects/ML/fastai_v1/docs/example/gen_doc/core.py\n",
      "Is type alias False Tuple /Users/andrewshaw/Projects/ML/fastai_v1/docs/example/gen_doc/core.py\n",
      "Is type alias False abc /Users/andrewshaw/Projects/ML/fastai_v1/docs/example/gen_doc/core.py\n",
      "Is type alias False annealing_cos /Users/andrewshaw/Projects/ML/fastai_v1/docs/example/gen_doc/core.py\n",
      "Is type alias False annealing_exp /Users/andrewshaw/Projects/ML/fastai_v1/docs/example/gen_doc/core.py\n",
      "Is type alias False annealing_linear /Users/andrewshaw/Projects/ML/fastai_v1/docs/example/gen_doc/core.py\n",
      "Is type alias False annealing_no /Users/andrewshaw/Projects/ML/fastai_v1/docs/example/gen_doc/core.py\n",
      "Is type alias False annealing_poly /Users/andrewshaw/Projects/ML/fastai_v1/docs/example/gen_doc/core.py\n",
      "Is type alias False dataclass /Users/andrewshaw/Projects/ML/fastai_v1/docs/example/gen_doc/core.py\n",
      "Is type alias False defaultdict /Users/andrewshaw/Projects/ML/fastai_v1/docs/example/gen_doc/core.py\n",
      "Is type alias False do_annealing_poly /Users/andrewshaw/Projects/ML/fastai_v1/docs/example/gen_doc/core.py\n",
      "Is type alias False is_iterable /Users/andrewshaw/Projects/ML/fastai_v1/docs/example/gen_doc/core.py\n",
      "Is type alias False is_listy /Users/andrewshaw/Projects/ML/fastai_v1/docs/example/gen_doc/core.py\n",
      "Is type alias False is_tuple /Users/andrewshaw/Projects/ML/fastai_v1/docs/example/gen_doc/core.py\n",
      "Is type alias False listify /Users/andrewshaw/Projects/ML/fastai_v1/docs/example/gen_doc/core.py\n",
      "Is type alias False master_bar /Users/andrewshaw/Projects/ML/fastai_v1/docs/example/gen_doc/core.py\n",
      "Is type alias False math /Users/andrewshaw/Projects/ML/fastai_v1/docs/example/gen_doc/core.py\n",
      "Is type alias False namedtuple /Users/andrewshaw/Projects/ML/fastai_v1/docs/example/gen_doc/core.py\n",
      "Is type alias False np /Users/andrewshaw/Projects/ML/fastai_v1/docs/example/gen_doc/core.py\n",
      "Is type alias False partial /Users/andrewshaw/Projects/ML/fastai_v1/docs/example/gen_doc/core.py\n",
      "Is type alias False plt /Users/andrewshaw/Projects/ML/fastai_v1/docs/example/gen_doc/core.py\n",
      "Is type alias False progress_bar /Users/andrewshaw/Projects/ML/fastai_v1/docs/example/gen_doc/core.py\n"
     ]
    },
    {
     "data": {
      "text/plain": [
       "['SmoothenValue',\n",
       " 'annealing_cos',\n",
       " 'annealing_exp',\n",
       " 'annealing_linear',\n",
       " 'annealing_no',\n",
       " 'annealing_poly',\n",
       " 'do_annealing_poly',\n",
       " 'is_iterable',\n",
       " 'is_listy',\n",
       " 'is_tuple',\n",
       " 'listify']"
      ]
     },
     "execution_count": null,
     "metadata": {},
     "output_type": "execute_result"
    }
   ],
   "source": [
    "gen_notebooks.get_ft_names(core)"
   ]
  },
  {
   "cell_type": "code",
   "execution_count": null,
   "metadata": {},
   "outputs": [
    {
     "data": {
      "text/plain": [
       "[('__args__',\n",
       "  (typing.Callable[[float, float, float], float],\n",
       "   typing.Callable[[float, float, float, float], float])),\n",
       " ('__call__',\n",
       "  <bound method _TypingBase.__call__ of typing.Union[typing.Callable[[float, float, float], float], typing.Callable[[float, float, float, float], float]]>),\n",
       " ('__class__', typing.Union),\n",
       " ('__delattr__',\n",
       "  <method-wrapper '__delattr__' of _Union object at 0x11a27bd18>),\n",
       " ('__dir__', <function _Union.__dir__>),\n",
       " ('__doc__',\n",
       "  'Union type; Union[X, Y] means either X or Y.\\n\\n    To define a union, use e.g. Union[int, str].  Details:\\n\\n    - The arguments must be types and there must be at least one.\\n\\n    - None as an argument is a special case and is replaced by\\n      type(None).\\n\\n    - Unions of unions are flattened, e.g.::\\n\\n        Union[Union[int, str], float] == Union[int, str, float]\\n\\n    - Unions of a single argument vanish, e.g.::\\n\\n        Union[int] == int  # The constructor actually returns int\\n\\n    - Redundant arguments are skipped, e.g.::\\n\\n        Union[int, str, int] == Union[int, str]\\n\\n    - When comparing unions, the argument order is ignored, e.g.::\\n\\n        Union[int, str] == Union[str, int]\\n\\n    - When two arguments have a subclass relationship, the least\\n      derived argument is kept, e.g.::\\n\\n        class Employee: pass\\n        class Manager(Employee): pass\\n        Union[int, Employee, Manager] == Union[int, Employee]\\n        Union[Manager, int, Employee] == Union[int, Employee]\\n        Union[Employee, Manager] == Employee\\n\\n    - Similar for object::\\n\\n        Union[int, object] == object\\n\\n    - You cannot subclass or instantiate a union.\\n\\n    - You can use Optional[X] as a shorthand for Union[X, None].\\n    '),\n",
       " ('__eq__',\n",
       "  <bound method _Union.__eq__ of typing.Union[typing.Callable[[float, float, float], float], typing.Callable[[float, float, float, float], float]]>),\n",
       " ('__format__', <function _Union.__format__>),\n",
       " ('__ge__', <method-wrapper '__ge__' of _Union object at 0x11a27bd18>),\n",
       " ('__getattribute__',\n",
       "  <method-wrapper '__getattribute__' of _Union object at 0x11a27bd18>),\n",
       " ('__getitem__',\n",
       "  <bound method _Union.__getitem__ of typing.Union[typing.Callable[[float, float, float], float], typing.Callable[[float, float, float, float], float]]>),\n",
       " ('__gt__', <method-wrapper '__gt__' of _Union object at 0x11a27bd18>),\n",
       " ('__hash__',\n",
       "  <bound method _Union.__hash__ of typing.Union[typing.Callable[[float, float, float], float], typing.Callable[[float, float, float, float], float]]>),\n",
       " ('__init__',\n",
       "  <bound method _TypingBase.__init__ of typing.Union[typing.Callable[[float, float, float], float], typing.Callable[[float, float, float, float], float]]>),\n",
       " ('__init_subclass__', <function _Union.__init_subclass__>),\n",
       " ('__instancecheck__',\n",
       "  <bound method _Union.__instancecheck__ of typing.Union[typing.Callable[[float, float, float], float], typing.Callable[[float, float, float, float], float]]>),\n",
       " ('__le__', <method-wrapper '__le__' of _Union object at 0x11a27bd18>),\n",
       " ('__lt__', <method-wrapper '__lt__' of _Union object at 0x11a27bd18>),\n",
       " ('__module__', 'typing'),\n",
       " ('__ne__', <method-wrapper '__ne__' of _Union object at 0x11a27bd18>),\n",
       " ('__new__',\n",
       "  <function typing._Union.__new__(cls, parameters=None, origin=None, *args, _root=False)>),\n",
       " ('__origin__', typing.Union),\n",
       " ('__parameters__', ()),\n",
       " ('__reduce__',\n",
       "  <bound method _FinalTypingBase.__reduce__ of typing.Union[typing.Callable[[float, float, float], float], typing.Callable[[float, float, float, float], float]]>),\n",
       " ('__reduce_ex__', <function _Union.__reduce_ex__>),\n",
       " ('__repr__',\n",
       "  <bound method _Union.__repr__ of typing.Union[typing.Callable[[float, float, float], float], typing.Callable[[float, float, float, float], float]]>),\n",
       " ('__setattr__',\n",
       "  <method-wrapper '__setattr__' of _Union object at 0x11a27bd18>),\n",
       " ('__sizeof__', <function _Union.__sizeof__>),\n",
       " ('__slots__', ('__parameters__', '__args__', '__origin__', '__tree_hash__')),\n",
       " ('__str__', <method-wrapper '__str__' of _Union object at 0x11a27bd18>),\n",
       " ('__subclasscheck__',\n",
       "  <bound method _Union.__subclasscheck__ of typing.Union[typing.Callable[[float, float, float], float], typing.Callable[[float, float, float, float], float]]>),\n",
       " ('__subclasshook__', <function _Union.__subclasshook__>),\n",
       " ('__tree_hash__', -8150854296794890766),\n",
       " ('__weakref__', None),\n",
       " ('_eval_type',\n",
       "  <bound method _Union._eval_type of typing.Union[typing.Callable[[float, float, float], float], typing.Callable[[float, float, float, float], float]]>),\n",
       " ('_get_type_vars',\n",
       "  <bound method _Union._get_type_vars of typing.Union[typing.Callable[[float, float, float], float], typing.Callable[[float, float, float, float], float]]>),\n",
       " ('_subs_tree',\n",
       "  <bound method _Union._subs_tree of typing.Union[typing.Callable[[float, float, float], float], typing.Callable[[float, float, float, float], float]]>),\n",
       " ('_tree_repr',\n",
       "  <bound method _Union._tree_repr of typing.Union[typing.Callable[[float, float, float], float], typing.Callable[[float, float, float, float], float]]>)]"
      ]
     },
     "execution_count": null,
     "metadata": {},
     "output_type": "execute_result"
    }
   ],
   "source": [
    "inspect.getmembers(elt)"
   ]
  },
  {
   "cell_type": "code",
   "execution_count": null,
   "metadata": {},
   "outputs": [],
   "source": [
    "def get_ft_names(mod):\n",
    "    \"Returns all the functions of module `mod`\"\n",
    "    # If the module has an attribute __all__, it picks those.\n",
    "    # Otherwise, it returns all the functions defined inside a module.\n",
    "\n",
    "    fn_names = []\n",
    "    for elt_name in dir(mod):\n",
    "        elt = getattr(mod,elt_name)\n",
    "        #This removes the files imported from elsewhere\n",
    "        try:    fname = inspect.getfile(elt)\n",
    "        except: continue\n",
    "        if fname != mod.__file__: continue\n",
    "        if inspect.isclass(elt) or inspect.isfunction(elt): fn_names.append(elt_name)\n",
    "    return fn_names"
   ]
  },
  {
   "cell_type": "code",
   "execution_count": null,
   "metadata": {},
   "outputs": [],
   "source": [
    "def get_ft_names(mod):\n",
    "    \"Returns all the functions of module `mod`\"\n",
    "    # If the module has an attribute __all__, it picks those.\n",
    "    # Otherwise, it returns all the functions defined inside a module.\n",
    "\n",
    "    fn_names = []\n",
    "    for elt_name in dir(mod):\n",
    "        elt = getattr(mod,elt_name)\n",
    "        #This removes the files imported from elsewhere\n",
    "        try:    fname = inspect.getfile(elt)\n",
    "        except: continue\n",
    "        if fname != mod.__file__: continue\n",
    "        if inspect.is(elt) or inspect.isfunction(elt): fn_names.append(elt_name)\n",
    "    return fn_names"
   ]
  },
  {
   "cell_type": "code",
   "execution_count": null,
   "metadata": {},
   "outputs": [],
   "source": [
    "class Stepper():\n",
    "    def __init__(self, vals:Union[float,Tuple[float,float]], num_it:int, ft:AnnealingFt=None):"
   ]
  },
  {
   "cell_type": "code",
   "execution_count": null,
   "metadata": {},
   "outputs": [],
   "source": [
    "inspect.getmembers(core.AnnealingFt)"
   ]
  },
  {
   "cell_type": "code",
   "execution_count": null,
   "metadata": {},
   "outputs": [],
   "source": [
    "def function_with_type_alias(type_alias:Floats):\n",
    "    pass"
   ]
  },
  {
   "cell_type": "code",
   "execution_count": null,
   "metadata": {},
   "outputs": [
    {
     "data": {
      "text/plain": [
       "[('__annotations__',\n",
       "  {'type_alias': typing.Union[float, typing.Collection[float]]}),\n",
       " ('__call__', <method-wrapper '__call__' of function object at 0x10c85a7b8>),\n",
       " ('__class__', function),\n",
       " ('__closure__', None),\n",
       " ('__code__',\n",
       "  <code object function_with_type_alias at 0x10c880d20, file \"<ipython-input-5-4f7dd948f8f3>\", line 1>),\n",
       " ('__defaults__', None),\n",
       " ('__delattr__',\n",
       "  <method-wrapper '__delattr__' of function object at 0x10c85a7b8>),\n",
       " ('__dict__', {}),\n",
       " ('__dir__', <function function.__dir__>),\n",
       " ('__doc__', None),\n",
       " ('__eq__', <method-wrapper '__eq__' of function object at 0x10c85a7b8>),\n",
       " ('__format__', <function function.__format__>),\n",
       " ('__ge__', <method-wrapper '__ge__' of function object at 0x10c85a7b8>),\n",
       " ('__get__', <method-wrapper '__get__' of function object at 0x10c85a7b8>),\n",
       " ('__getattribute__',\n",
       "  <method-wrapper '__getattribute__' of function object at 0x10c85a7b8>),\n",
       " ('__globals__',\n",
       "  {'__name__': '__main__',\n",
       "   '__doc__': 'Automatically created module for IPython interactive environment',\n",
       "   '__package__': None,\n",
       "   '__loader__': None,\n",
       "   '__spec__': None,\n",
       "   '__builtin__': <module 'builtins' (built-in)>,\n",
       "   '__builtins__': <module 'builtins' (built-in)>,\n",
       "   '_ih': ['',\n",
       "    \"get_ipython().run_line_magic('reload_ext', 'autoreload')\\nget_ipython().run_line_magic('autoreload', '2')\",\n",
       "    'import gen_doc\\nfrom gen_doc import nbdoc',\n",
       "    'from enum import IntEnum, Enum\\nimport inspect',\n",
       "    'from gen_doc.core import *',\n",
       "    'def function_with_type_alias(type_alias:Floats):\\n    pass',\n",
       "    'inspect.getmembers(function_with_type_alias)'],\n",
       "   '_oh': {},\n",
       "   '_dh': ['/Users/andrewshaw/Projects/ML/fastai_v1/docs/example'],\n",
       "   'In': ['',\n",
       "    \"get_ipython().run_line_magic('reload_ext', 'autoreload')\\nget_ipython().run_line_magic('autoreload', '2')\",\n",
       "    'import gen_doc\\nfrom gen_doc import nbdoc',\n",
       "    'from enum import IntEnum, Enum\\nimport inspect',\n",
       "    'from gen_doc.core import *',\n",
       "    'def function_with_type_alias(type_alias:Floats):\\n    pass',\n",
       "    'inspect.getmembers(function_with_type_alias)'],\n",
       "   'Out': {},\n",
       "   'get_ipython': <bound method InteractiveShell.get_ipython of <ipykernel.zmqshell.ZMQInteractiveShell object at 0x10c640a20>>,\n",
       "   'exit': <IPython.core.autocall.ZMQExitAutocall at 0x10c697be0>,\n",
       "   'quit': <IPython.core.autocall.ZMQExitAutocall at 0x10c697be0>,\n",
       "   '_': '',\n",
       "   '__': '',\n",
       "   '___': '',\n",
       "   '_i': 'def function_with_type_alias(type_alias:Floats):\\n    pass',\n",
       "   '_ii': 'from gen_doc.core import *',\n",
       "   '_iii': 'from enum import IntEnum, Enum\\nimport inspect',\n",
       "   '_i1': '%reload_ext autoreload\\n%autoreload 2',\n",
       "   '_i2': 'import gen_doc\\nfrom gen_doc import nbdoc',\n",
       "   'gen_doc': <module 'gen_doc' (namespace)>,\n",
       "   'nbdoc': <module 'gen_doc.nbdoc' from '/Users/andrewshaw/Projects/ML/fastai_v1/docs/example/gen_doc/nbdoc.py'>,\n",
       "   '_i3': 'from enum import IntEnum, Enum\\nimport inspect',\n",
       "   'IntEnum': <enum 'IntEnum'>,\n",
       "   'Enum': <enum 'Enum'>,\n",
       "   'inspect': <module 'inspect' from '/Users/andrewshaw/miniconda3/envs/fastai_v1/lib/python3.6/inspect.py'>,\n",
       "   '_i4': 'from gen_doc.core import *',\n",
       "   'math': <module 'math' from '/Users/andrewshaw/miniconda3/envs/fastai_v1/lib/python3.6/lib-dynload/math.cpython-36m-darwin.so'>,\n",
       "   'np': <module 'numpy' from '/Users/andrewshaw/miniconda3/envs/fastai_v1/lib/python3.6/site-packages/numpy/__init__.py'>,\n",
       "   'plt': <module 'matplotlib.pyplot' from '/Users/andrewshaw/miniconda3/envs/fastai_v1/lib/python3.6/site-packages/matplotlib/pyplot.py'>,\n",
       "   'Path': pathlib.Path,\n",
       "   'dataclass': <function dataclasses.dataclass(_cls=None, *, init=True, repr=True, eq=True, order=False, unsafe_hash=False, frozen=False)>,\n",
       "   'Any': typing.Any,\n",
       "   'Collection': typing.Collection,\n",
       "   'Callable': typing.Callable,\n",
       "   'Union': typing.Union,\n",
       "   'Iterator': typing.Iterator,\n",
       "   'Tuple': typing.Tuple,\n",
       "   'NewType': <function typing.NewType(name, tp)>,\n",
       "   'List': typing.List,\n",
       "   'Sequence': typing.Sequence,\n",
       "   'Dict': typing.Dict,\n",
       "   'partial': functools.partial,\n",
       "   'reduce': <function _functools.reduce>,\n",
       "   'master_bar': fast_progress.fast_progress.NBMasterBar,\n",
       "   'progress_bar': fast_progress.fast_progress.NBProgressBar,\n",
       "   'defaultdict': collections.defaultdict,\n",
       "   'abc': <module 'collections.abc' from '/Users/andrewshaw/miniconda3/envs/fastai_v1/lib/python3.6/collections/abc.py'>,\n",
       "   'namedtuple': <function collections.namedtuple(typename, field_names, *, verbose=False, rename=False, module=None)>,\n",
       "   'Iterable': collections.abc.Iterable,\n",
       "   'FileLike': typing.Union[str, pathlib.Path],\n",
       "   'Floats': typing.Union[float, typing.Collection[float]],\n",
       "   'AnnealingFt': typing.Union[typing.Callable[[float, float, float], float], typing.Callable[[float, float, float, float], float]],\n",
       "   'is_tuple': <function gen_doc.core.is_tuple(x) -> bool>,\n",
       "   'is_listy': <function gen_doc.core.is_listy(x) -> bool>,\n",
       "   'is_iterable': <function gen_doc.core.is_iterable(x) -> bool>,\n",
       "   'listify': <function gen_doc.core.listify(p=None, q=None) -> Collection>,\n",
       "   'SmoothenValue': gen_doc.core.SmoothenValue,\n",
       "   'annealing_no': <function gen_doc.core.annealing_no(start:float, end:float, pct:float) -> float>,\n",
       "   'annealing_linear': <function gen_doc.core.annealing_linear(start:float, end:float, pct:float) -> float>,\n",
       "   'annealing_exp': <function gen_doc.core.annealing_exp(start:float, end:float, pct:float) -> float>,\n",
       "   'annealing_cos': <function gen_doc.core.annealing_cos(start:float, end:float, pct:float) -> float>,\n",
       "   'do_annealing_poly': <function gen_doc.core.do_annealing_poly(start:float, end:float, pct:float, degree:float) -> float>,\n",
       "   'annealing_poly': <function gen_doc.core.annealing_poly(degree:float) -> Callable>,\n",
       "   '_i5': 'def function_with_type_alias(type_alias:Floats):\\n    pass',\n",
       "   'function_with_type_alias': <function __main__.function_with_type_alias(type_alias:Union[float, Collection[float]])>,\n",
       "   '_i6': 'inspect.getmembers(function_with_type_alias)'}),\n",
       " ('__gt__', <method-wrapper '__gt__' of function object at 0x10c85a7b8>),\n",
       " ('__hash__', <method-wrapper '__hash__' of function object at 0x10c85a7b8>),\n",
       " ('__init__', <method-wrapper '__init__' of function object at 0x10c85a7b8>),\n",
       " ('__init_subclass__', <function function.__init_subclass__>),\n",
       " ('__kwdefaults__', None),\n",
       " ('__le__', <method-wrapper '__le__' of function object at 0x10c85a7b8>),\n",
       " ('__lt__', <method-wrapper '__lt__' of function object at 0x10c85a7b8>),\n",
       " ('__module__', '__main__'),\n",
       " ('__name__', 'function_with_type_alias'),\n",
       " ('__ne__', <method-wrapper '__ne__' of function object at 0x10c85a7b8>),\n",
       " ('__new__', <function function.__new__(*args, **kwargs)>),\n",
       " ('__qualname__', 'function_with_type_alias'),\n",
       " ('__reduce__', <function function.__reduce__>),\n",
       " ('__reduce_ex__', <function function.__reduce_ex__>),\n",
       " ('__repr__', <method-wrapper '__repr__' of function object at 0x10c85a7b8>),\n",
       " ('__setattr__',\n",
       "  <method-wrapper '__setattr__' of function object at 0x10c85a7b8>),\n",
       " ('__sizeof__', <function function.__sizeof__>),\n",
       " ('__str__', <method-wrapper '__str__' of function object at 0x10c85a7b8>),\n",
       " ('__subclasshook__', <function function.__subclasshook__>)]"
      ]
     },
     "execution_count": null,
     "metadata": {},
     "output_type": "execute_result"
    }
   ],
   "source": [
    "inspect.getmembers(function_with_type_alias)"
   ]
  },
  {
   "cell_type": "code",
   "execution_count": null,
   "metadata": {},
   "outputs": [
    {
     "data": {
      "text/markdown": [
       "<a id=function_with_type_alias></a>**function_with_type_alias**(<em>type_alias</em>: typing.Union[float, typing.Collection[float]])"
      ],
      "text/plain": [
       "<IPython.core.display.Markdown object>"
      ]
     },
     "metadata": {},
     "output_type": "display_data"
    }
   ],
   "source": [
    "nbdoc.show_doc(function_with_type_alias)"
   ]
  },
  {
   "cell_type": "code",
   "execution_count": null,
   "metadata": {},
   "outputs": [
    {
     "data": {
      "text/plain": [
       "FullArgSpec(args=['type_alias'], varargs=None, varkw=None, defaults=None, kwonlyargs=[], kwonlydefaults=None, annotations={'type_alias': typing.Union[float, typing.Collection[float]]})"
      ]
     },
     "execution_count": null,
     "metadata": {},
     "output_type": "execute_result"
    }
   ],
   "source": [
    "inspect.getfullargspec(function_with_type_alias)"
   ]
  },
  {
   "cell_type": "code",
   "execution_count": null,
   "metadata": {},
   "outputs": [],
   "source": [
    "inspect.get"
   ]
  },
  {
   "cell_type": "code",
   "execution_count": null,
   "metadata": {},
   "outputs": [],
   "source": [
    "def conv2d(ni, nf, ks=3, stride=1, padding=None):\n",
    "    if padding is None: padding = ks//2\n",
    "    return nn.Conv2d(ni, nf, kernel_size=ks, stride=stride, padding=padding)\n",
    "\n",
    "def conv2d_relu(ni, nf, ks=3, stride=1, padding=None, bn=False):\n",
    "    \"\"\"Adds `conv2d` method to layers\"\"\"\n",
    "    layers = [conv2d(ni, nf, ks=ks, stride=stride, padding=padding), nn.ReLU()]\n",
    "    if bn: layers.append(nn.BatchNorm2d(nf))\n",
    "    return nn.Sequential(*layers)\n"
   ]
  },
  {
   "cell_type": "code",
   "execution_count": null,
   "metadata": {},
   "outputs": [],
   "source": []
  }
 ],
 "metadata": {
  "kernelspec": {
   "display_name": "Python 3",
   "language": "python",
   "name": "python3"
  }
 },
 "nbformat": 4,
 "nbformat_minor": 2
}
