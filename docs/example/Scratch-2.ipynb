{
 "cells": [
  {
   "cell_type": "code",
   "execution_count": null,
   "metadata": {},
   "outputs": [],
   "source": [
    "%reload_ext autoreload\n",
    "%autoreload 2"
   ]
  },
  {
   "cell_type": "code",
   "execution_count": null,
   "metadata": {},
   "outputs": [],
   "source": [
    "import gen_doc\n",
    "from gen_doc import nbdoc"
   ]
  },
  {
   "cell_type": "code",
   "execution_count": null,
   "metadata": {},
   "outputs": [],
   "source": [
    "from enum import IntEnum, Enum\n",
    "import inspect"
   ]
  },
  {
   "cell_type": "markdown",
   "metadata": {},
   "source": [
    "### Enums"
   ]
  },
  {
   "cell_type": "code",
   "execution_count": null,
   "metadata": {},
   "outputs": [],
   "source": [
    "TfmY = IntEnum('TfmY', 'No Pixel Mask Coord BBox')"
   ]
  },
  {
   "cell_type": "markdown",
   "metadata": {},
   "source": [
    "**TfmY:IntEnum** [No, Pixel, Mask, Coord, BBox]\n",
    "\n",
    "An enumeration."
   ]
  },
  {
   "cell_type": "code",
   "execution_count": null,
   "metadata": {},
   "outputs": [
    {
     "data": {
      "text/markdown": [
       "<a id=TfmY></a>**TfmY**:Enum = [No, Pixel, Mask, Coord, BBox]\n",
       "\n",
       "\n",
       "An enumeration."
      ],
      "text/plain": [
       "<IPython.core.display.Markdown object>"
      ]
     },
     "metadata": {},
     "output_type": "display_data"
    }
   ],
   "source": [
    "nbdoc.show_doc(TfmY)"
   ]
  },
  {
   "cell_type": "markdown",
   "metadata": {},
   "source": [
    "### Classes"
   ]
  },
  {
   "cell_type": "code",
   "execution_count": null,
   "metadata": {},
   "outputs": [],
   "source": [
    "class Parentclass():\n",
    "    pass"
   ]
  },
  {
   "cell_type": "code",
   "execution_count": null,
   "metadata": {},
   "outputs": [],
   "source": [
    "class Subclass(Parentclass):\n",
    "    def __init__(self, var:int=10): pass\n",
    "    def update(self): pass\n",
    "    def remove(self): pass\n",
    "    \n",
    "    @classmethod\n",
    "    def cmethod(x): pass"
   ]
  },
  {
   "cell_type": "code",
   "execution_count": null,
   "metadata": {},
   "outputs": [
    {
     "data": {
      "text/markdown": [
       "<a id=Subclass></a><em>class</em> **Subclass**(<em>var</em>: int=10):: Inherits from (`Parentclass`)"
      ],
      "text/plain": [
       "<IPython.core.display.Markdown object>"
      ]
     },
     "metadata": {},
     "output_type": "display_data"
    }
   ],
   "source": [
    "nbdoc.show_doc(Subclass)"
   ]
  },
  {
   "cell_type": "code",
   "execution_count": null,
   "metadata": {},
   "outputs": [
    {
     "data": {
      "text/plain": [
       "False"
      ]
     },
     "execution_count": null,
     "metadata": {},
     "output_type": "execute_result"
    }
   ],
   "source": [
    "inspect.ismethod(Subclass.update)"
   ]
  },
  {
   "cell_type": "code",
   "execution_count": null,
   "metadata": {},
   "outputs": [
    {
     "data": {
      "text/plain": [
       "[('__call__', <method-wrapper '__call__' of method object at 0x12199b608>),\n",
       " ('__class__', method),\n",
       " ('__delattr__',\n",
       "  <method-wrapper '__delattr__' of method object at 0x12199b608>),\n",
       " ('__dir__', <function method.__dir__>),\n",
       " ('__doc__', None),\n",
       " ('__eq__', <method-wrapper '__eq__' of method object at 0x12199b608>),\n",
       " ('__format__', <function method.__format__>),\n",
       " ('__func__', <function __main__.Subclass.cmethod(x)>),\n",
       " ('__ge__', <method-wrapper '__ge__' of method object at 0x12199b608>),\n",
       " ('__get__', <method-wrapper '__get__' of method object at 0x12199b608>),\n",
       " ('__getattribute__',\n",
       "  <method-wrapper '__getattribute__' of method object at 0x12199b608>),\n",
       " ('__gt__', <method-wrapper '__gt__' of method object at 0x12199b608>),\n",
       " ('__hash__', <method-wrapper '__hash__' of method object at 0x12199b608>),\n",
       " ('__init__', <method-wrapper '__init__' of method object at 0x12199b608>),\n",
       " ('__init_subclass__', <function method.__init_subclass__>),\n",
       " ('__le__', <method-wrapper '__le__' of method object at 0x12199b608>),\n",
       " ('__lt__', <method-wrapper '__lt__' of method object at 0x12199b608>),\n",
       " ('__ne__', <method-wrapper '__ne__' of method object at 0x12199b608>),\n",
       " ('__new__', <function method.__new__(*args, **kwargs)>),\n",
       " ('__reduce__', <function method.__reduce__>),\n",
       " ('__reduce_ex__', <function method.__reduce_ex__>),\n",
       " ('__repr__', <method-wrapper '__repr__' of method object at 0x12199b608>),\n",
       " ('__self__', __main__.Subclass),\n",
       " ('__setattr__',\n",
       "  <method-wrapper '__setattr__' of method object at 0x12199b608>),\n",
       " ('__sizeof__', <function method.__sizeof__>),\n",
       " ('__str__', <method-wrapper '__str__' of method object at 0x12199b608>),\n",
       " ('__subclasshook__', <function method.__subclasshook__>)]"
      ]
     },
     "execution_count": null,
     "metadata": {},
     "output_type": "execute_result"
    }
   ],
   "source": [
    "inspect.getmembers(Subclass.cmethod)"
   ]
  },
  {
   "cell_type": "code",
   "execution_count": null,
   "metadata": {},
   "outputs": [
    {
     "data": {
      "text/markdown": [
       "<a id=cmethod></a><em>classmethod</em> **cmethod**(<em>x</em>)"
      ],
      "text/plain": [
       "<IPython.core.display.Markdown object>"
      ]
     },
     "metadata": {},
     "output_type": "display_data"
    }
   ],
   "source": [
    "nbdoc.show_doc(Subclass.cmethod)"
   ]
  },
  {
   "cell_type": "code",
   "execution_count": null,
   "metadata": {},
   "outputs": [
    {
     "data": {
      "text/markdown": [
       "<a id=update></a>**update**(<em>self</em>)"
      ],
      "text/plain": [
       "<IPython.core.display.Markdown object>"
      ]
     },
     "metadata": {},
     "output_type": "display_data"
    }
   ],
   "source": [
    "nbdoc.show_doc(Subclass.update)"
   ]
  },
  {
   "cell_type": "code",
   "execution_count": null,
   "metadata": {},
   "outputs": [
    {
     "data": {
      "text/plain": [
       "True"
      ]
     },
     "execution_count": null,
     "metadata": {},
     "output_type": "execute_result"
    }
   ],
   "source": [
    "inspect.ismethod(Subclass.cmethod)"
   ]
  },
  {
   "cell_type": "code",
   "execution_count": null,
   "metadata": {},
   "outputs": [
    {
     "data": {
      "text/plain": [
       "[('__class__', type),\n",
       " ('__delattr__', <slot wrapper '__delattr__' of 'object' objects>),\n",
       " ('__dict__',\n",
       "  mappingproxy({'__module__': '__main__',\n",
       "                '__dict__': <attribute '__dict__' of 'Parentclass' objects>,\n",
       "                '__weakref__': <attribute '__weakref__' of 'Parentclass' objects>,\n",
       "                '__doc__': None})),\n",
       " ('__dir__', <method '__dir__' of 'object' objects>),\n",
       " ('__doc__', None),\n",
       " ('__eq__', <slot wrapper '__eq__' of 'object' objects>),\n",
       " ('__format__', <method '__format__' of 'object' objects>),\n",
       " ('__ge__', <slot wrapper '__ge__' of 'object' objects>),\n",
       " ('__getattribute__', <slot wrapper '__getattribute__' of 'object' objects>),\n",
       " ('__gt__', <slot wrapper '__gt__' of 'object' objects>),\n",
       " ('__hash__', <slot wrapper '__hash__' of 'object' objects>),\n",
       " ('__init__', <slot wrapper '__init__' of 'object' objects>),\n",
       " ('__init_subclass__', <function Parentclass.__init_subclass__>),\n",
       " ('__le__', <slot wrapper '__le__' of 'object' objects>),\n",
       " ('__lt__', <slot wrapper '__lt__' of 'object' objects>),\n",
       " ('__module__', '__main__'),\n",
       " ('__ne__', <slot wrapper '__ne__' of 'object' objects>),\n",
       " ('__new__', <function object.__new__(*args, **kwargs)>),\n",
       " ('__reduce__', <method '__reduce__' of 'object' objects>),\n",
       " ('__reduce_ex__', <method '__reduce_ex__' of 'object' objects>),\n",
       " ('__repr__', <slot wrapper '__repr__' of 'object' objects>),\n",
       " ('__setattr__', <slot wrapper '__setattr__' of 'object' objects>),\n",
       " ('__sizeof__', <method '__sizeof__' of 'object' objects>),\n",
       " ('__str__', <slot wrapper '__str__' of 'object' objects>),\n",
       " ('__subclasshook__', <function Parentclass.__subclasshook__>),\n",
       " ('__weakref__', <attribute '__weakref__' of 'Parentclass' objects>)]"
      ]
     },
     "execution_count": null,
     "metadata": {},
     "output_type": "execute_result"
    }
   ],
   "source": [
    "inspect.getmembers(Parentclass)"
   ]
  },
  {
   "cell_type": "markdown",
   "metadata": {},
   "source": [
    "class **Subclass**(var: int=10) :: Inherits from ([`Parentclass`](fast.ai))"
   ]
  },
  {
   "cell_type": "code",
   "execution_count": null,
   "metadata": {},
   "outputs": [
    {
     "data": {
      "text/markdown": [
       "- [Subclass.update](#Subclass.update)\n",
       "- [Subclass.remove](#Subclass.remove)\n"
      ],
      "text/plain": [
       "<IPython.core.display.Markdown object>"
      ]
     },
     "metadata": {},
     "output_type": "display_data"
    }
   ],
   "source": [
    "nbdoc.get_class_toc('__main__', 'Subclass')"
   ]
  },
  {
   "cell_type": "markdown",
   "metadata": {},
   "source": [
    "### Functions"
   ]
  },
  {
   "cell_type": "code",
   "execution_count": null,
   "metadata": {},
   "outputs": [],
   "source": [
    "def example_function(x:int, cls:Parentclass=None) -> str:\n",
    "    \"\"\"\n",
    "    Provides an example to how docstrings are resolved\n",
    "    :param x: Number to store\n",
    "    :param cls: Class string \n",
    "    :return: Error string\n",
    "    \"\"\"\n",
    "    pass"
   ]
  },
  {
   "cell_type": "code",
   "execution_count": null,
   "metadata": {},
   "outputs": [],
   "source": [
    "def linked_docstring_example(x:int, s:str='Hello') -> bool:\n",
    "    \"\"\"Should link to `example_function`\"\"\"\n",
    "    pass"
   ]
  },
  {
   "cell_type": "code",
   "execution_count": null,
   "metadata": {},
   "outputs": [
    {
     "data": {
      "text/markdown": [
       "<a id=example_function></a>**example_function**(<em>x</em>: int, <em>cls</em>: Parentclass=None) -> str\n",
       "\n",
       "\n",
       "Provides an example to how docstrings are resolved\n",
       "\n",
       "- *x*: Number to store\n",
       "\n",
       "- *cls*: Override cls docs\n",
       "\n",
       "*return*: Error string"
      ],
      "text/plain": [
       "<IPython.core.display.Markdown object>"
      ]
     },
     "metadata": {},
     "output_type": "display_data"
    }
   ],
   "source": [
    "nbdoc.show_doc(example_function, arg_comments={'cls': 'Override cls docs'})"
   ]
  },
  {
   "cell_type": "code",
   "execution_count": null,
   "metadata": {},
   "outputs": [
    {
     "data": {
      "text/markdown": [
       "<a id=linked_docstring_example></a>**linked_docstring_example**(<em>x</em>: int, <em>s</em>: str=Hello) -> bool\n",
       "\n",
       "\n",
       "Should link to [`example_function`](__main__.ipynb#example_function)\n"
      ],
      "text/plain": [
       "<IPython.core.display.Markdown object>"
      ]
     },
     "metadata": {},
     "output_type": "display_data"
    }
   ],
   "source": [
    "nbdoc.show_doc(linked_docstring_example, arg_comments={'cls': 'Override cls docs'})"
   ]
  },
  {
   "cell_type": "code",
   "execution_count": null,
   "metadata": {},
   "outputs": [
    {
     "data": {
      "text/markdown": [
       "<a id=Parentclass></a><em>class</em> **Parentclass**()"
      ],
      "text/plain": [
       "<IPython.core.display.Markdown object>"
      ]
     },
     "metadata": {},
     "output_type": "display_data"
    }
   ],
   "source": [
    "nbdoc.show_doc_from_name('__main__', 'Parentclass')"
   ]
  },
  {
   "cell_type": "markdown",
   "metadata": {},
   "source": [
    "### Library functions - source link on the right. Docstrings should link to other functions if they exist"
   ]
  },
  {
   "cell_type": "code",
   "execution_count": null,
   "metadata": {},
   "outputs": [
    {
     "data": {
      "text/markdown": [
       "<a id=get_ft_doc></a>**get_ft_doc**(<em>elt</em>, <em>full_name</em>: str)<div style=\"text-align: right\"><a href=\"gen_doc/nbdoc.py#L45\">[source]</a></div>\n",
       "\n",
       "\n",
       "calls [`format_ft_def`](gen_doc.nbdoc.ipynb#format_ft_def) for `full_name`"
      ],
      "text/plain": [
       "<IPython.core.display.Markdown object>"
      ]
     },
     "metadata": {},
     "output_type": "display_data"
    }
   ],
   "source": [
    "nbdoc.show_doc(nbdoc.get_ft_doc)"
   ]
  },
  {
   "cell_type": "markdown",
   "metadata": {},
   "source": [
    "### gen_notebooks"
   ]
  },
  {
   "cell_type": "code",
   "execution_count": null,
   "metadata": {},
   "outputs": [],
   "source": [
    "from gen_doc import gen_notebooks"
   ]
  },
  {
   "cell_type": "code",
   "execution_count": null,
   "metadata": {},
   "outputs": [],
   "source": [
    "nb = gen_notebooks.read_nb('Scratch-2.ipynb')"
   ]
  },
  {
   "cell_type": "code",
   "execution_count": null,
   "metadata": {},
   "outputs": [
    {
     "data": {
      "text/plain": [
       "{'AnnealingFt': 80}"
      ]
     },
     "execution_count": null,
     "metadata": {},
     "output_type": "execute_result"
    }
   ],
   "source": [
    "gen_notebooks.read_nb_content(nb['cells'], 'gen_doc')"
   ]
  },
  {
   "cell_type": "markdown",
   "metadata": {},
   "source": [
    "### Globally assigned variables should look like this:"
   ]
  },
  {
   "cell_type": "code",
   "execution_count": null,
   "metadata": {},
   "outputs": [
    {
     "data": {
      "text/markdown": [
       "FileLike = Union[str, Path]<div style=\"text-align: right\"><a href=\"gen_doc/core.py#L9\">[source]</a></div>"
      ],
      "text/plain": [
       "<IPython.core.display.Markdown object>"
      ]
     },
     "metadata": {},
     "output_type": "display_data"
    }
   ],
   "source": [
    "from IPython.core.display import display, Markdown, HTML\n",
    "display(Markdown(list(gen_notebooks.get_global_vars(core).values())[0]))"
   ]
  },
  {
   "cell_type": "markdown",
   "metadata": {},
   "source": [
    "`FileLike = Union[str, Path]`"
   ]
  },
  {
   "cell_type": "code",
   "execution_count": null,
   "metadata": {},
   "outputs": [],
   "source": [
    "from gen_doc.gen_notebooks import update_module_page, create_module_page"
   ]
  },
  {
   "cell_type": "code",
   "execution_count": null,
   "metadata": {},
   "outputs": [],
   "source": [
    "create_module_page('gen_doc.core', '.')"
   ]
  },
  {
   "cell_type": "code",
   "execution_count": null,
   "metadata": {},
   "outputs": [
    {
     "name": "stdout",
     "output_type": "stream",
     "text": [
      "Type dict: {'FileLike': 5, 'Floats': 6, 'AnnealingFt': 7}\n",
      "GLobal vars: {'FileLike': '`FileLike = Union[str, Path]` <div style=\"text-align: right\"><a href=\"gen_doc/core.py#L9\">[source]</a></div>', 'Floats': '`Floats = Union[float, Collection[float]]` <div style=\"text-align: right\"><a href=\"gen_doc/core.py#L10\">[source]</a></div>', 'AnnealingFt': '`AnnealingFt = Union[Callable[[float,float,float],float],Callable[[float,float,float,float],float]]` <div style=\"text-align: right\"><a href=\"gen_doc/core.py#L11\">[source]</a></div>'}\n"
     ]
    }
   ],
   "source": [
    "update_module_page('gen_doc.core', '.')"
   ]
  },
  {
   "cell_type": "code",
   "execution_count": null,
   "metadata": {},
   "outputs": [],
   "source": []
  }
 ],
 "metadata": {
  "kernelspec": {
   "display_name": "Python 3",
   "language": "python",
   "name": "python3"
  }
 },
 "nbformat": 4,
 "nbformat_minor": 2
}
