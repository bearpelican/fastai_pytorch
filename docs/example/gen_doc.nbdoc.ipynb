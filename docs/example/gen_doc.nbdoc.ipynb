{
 "cells": [
  {
   "cell_type": "markdown",
   "metadata": {},
   "source": [
    "# gen_doc.nbdoc"
   ]
  },
  {
   "cell_type": "markdown",
   "metadata": {},
   "source": [
    "This packages should contain all you need to create documentation notebooks. The skeleton auto-generated will contain the a table of contents then all the function and classes written inside the module (default behavior). If you want to exclude some of the functions or classes, you should create an attribute \\_\\_all\\_\\_ in your module that will contain all the functions and classes you want to see inside the documentation."
   ]
  },
  {
   "cell_type": "markdown",
   "metadata": {},
   "source": [
    "**Important note:** Deleting cells auto-generated isn't recommended since they will appear again during the next update."
   ]
  },
  {
   "cell_type": "markdown",
   "metadata": {},
   "source": [
    "Auto-generated cells are code cells with an invisible input. This insures that the notebook is up to date with the code each time it is reexecuted. The first auto-generated cell import the nbdoc module and the next ones create the table of contents with the command get_module_doc. Before modifying a notebook, be sure to execute the invisible cells with the imports!"
   ]
  },
  {
   "cell_type": "code",
   "execution_count": null,
   "metadata": {
    "hide_input": true
   },
   "outputs": [],
   "source": [
    "from gen_doc.nbdoc import * "
   ]
  },
  {
   "cell_type": "code",
   "execution_count": null,
   "metadata": {
    "hide_input": true
   },
   "outputs": [
    {
     "data": {
      "text/markdown": [
       "- [create_anchor](#create_anchor)\n",
       "- [get_class_toc](#get_class_toc)\n",
       "- [get_fn_link](#get_fn_link)\n",
       "- [get_module_toc](#get_module_toc)\n",
       "- [show_doc](#show_doc)\n",
       "- [show_doc_from_name](#show_doc_from_name)\n",
       "- [show_video](#show_video)\n",
       "- [show_video_from_youtube](#show_video_from_youtube)\n"
      ],
      "text/plain": [
       "<IPython.core.display.Markdown object>"
      ]
     },
     "metadata": {},
     "output_type": "display_data"
    }
   ],
   "source": [
    "get_module_toc(\"gen_doc.nbdoc\")"
   ]
  },
  {
   "cell_type": "markdown",
   "metadata": {},
   "source": [
    "You then get one cell per function and class selected, with an anchor so that the table of content works. Those are generated with the command show_doc_from_name."
   ]
  },
  {
   "cell_type": "code",
   "execution_count": null,
   "metadata": {
    "hide_input": true
   },
   "outputs": [
    {
     "data": {
      "text/markdown": [
       "<a id=create_anchor></a>**create_anchor**(<em>name</em>)\n",
       "\n",
       "\n",
       "- *name*: the name of the anchor"
      ],
      "text/plain": [
       "<IPython.core.display.Markdown object>"
      ]
     },
     "metadata": {},
     "output_type": "display_data"
    }
   ],
   "source": [
    "show_doc_from_name('gen_doc.nbdoc','create_anchor',\n",
    "                   arg_comments={'name': 'the name of the anchor'})"
   ]
  },
  {
   "cell_type": "markdown",
   "metadata": {},
   "source": [
    "This creates an output cell with an html code for the anchor with the name given. You can then make a link to it in any Markdown cell by using\n",
    "```\n",
    "\\[text\\](#anchor_name).\n",
    "```"
   ]
  },
  {
   "cell_type": "code",
   "execution_count": null,
   "metadata": {
    "hide_input": true
   },
   "outputs": [
    {
     "data": {
      "text/markdown": [
       "<a id=get_class_toc></a>**get_class_toc**(<em>mod_name</em>, <em>cls_name</em>)\n",
       "\n",
       "\n",
       "- *mod_name*: the name of the module containing the class\n",
       "- *cls_name*: the name of the class"
      ],
      "text/plain": [
       "<IPython.core.display.Markdown object>"
      ]
     },
     "metadata": {},
     "output_type": "display_data"
    }
   ],
   "source": [
    "show_doc_from_name('gen_doc.nbdoc','get_class_toc',\n",
    "                   arg_comments={'mod_name':'the name of the module containing the class',\n",
    "                                 'cls_name':'the name of the class'})"
   ]
  },
  {
   "cell_type": "markdown",
   "metadata": {},
   "source": [
    "This create an output cell containing the table of contents with all the function of a given class. Note that the links only work inside the documentation of a given module (so the ones in this example won't since torch.nn isn't documented)."
   ]
  },
  {
   "cell_type": "code",
   "execution_count": null,
   "metadata": {},
   "outputs": [
    {
     "data": {
      "text/markdown": [
       "- [Module.forward](#Module.forward)\n",
       "- [Module.register_buffer](#Module.register_buffer)\n",
       "- [Module.register_parameter](#Module.register_parameter)\n",
       "- [Module.add_module](#Module.add_module)\n",
       "- [Module._apply](#Module._apply)\n",
       "- [Module.apply](#Module.apply)\n",
       "- [Module.cuda](#Module.cuda)\n",
       "- [Module.cpu](#Module.cpu)\n",
       "- [Module.type](#Module.type)\n",
       "- [Module.float](#Module.float)\n",
       "- [Module.double](#Module.double)\n",
       "- [Module.half](#Module.half)\n",
       "- [Module.to](#Module.to)\n",
       "- [Module.register_backward_hook](#Module.register_backward_hook)\n",
       "- [Module.register_forward_pre_hook](#Module.register_forward_pre_hook)\n",
       "- [Module.register_forward_hook](#Module.register_forward_hook)\n",
       "- [Module._tracing_name](#Module._tracing_name)\n",
       "- [Module._slow_forward](#Module._slow_forward)\n",
       "- [Module.state_dict](#Module.state_dict)\n",
       "- [Module._load_from_state_dict](#Module._load_from_state_dict)\n",
       "- [Module.load_state_dict](#Module.load_state_dict)\n",
       "- [Module._named_members](#Module._named_members)\n",
       "- [Module.parameters](#Module.parameters)\n",
       "- [Module.named_parameters](#Module.named_parameters)\n",
       "- [Module.buffers](#Module.buffers)\n",
       "- [Module.named_buffers](#Module.named_buffers)\n",
       "- [Module.children](#Module.children)\n",
       "- [Module.named_children](#Module.named_children)\n",
       "- [Module.modules](#Module.modules)\n",
       "- [Module.named_modules](#Module.named_modules)\n",
       "- [Module.train](#Module.train)\n",
       "- [Module.eval](#Module.eval)\n",
       "- [Module.zero_grad](#Module.zero_grad)\n",
       "- [Module.share_memory](#Module.share_memory)\n",
       "- [Module._get_name](#Module._get_name)\n",
       "- [Module.extra_repr](#Module.extra_repr)\n"
      ],
      "text/plain": [
       "<IPython.core.display.Markdown object>"
      ]
     },
     "metadata": {},
     "output_type": "display_data"
    }
   ],
   "source": [
    "get_class_toc('torch.nn','Module')"
   ]
  },
  {
   "cell_type": "code",
   "execution_count": null,
   "metadata": {
    "hide_input": true
   },
   "outputs": [
    {
     "data": {
      "text/markdown": [
       "<a id=get_fn_link></a>**get_fn_link**(<em>ft</em>)\n",
       "\n",
       "\n",
       "- *ft*: the name of a function"
      ],
      "text/plain": [
       "<IPython.core.display.Markdown object>"
      ]
     },
     "metadata": {},
     "output_type": "display_data"
    }
   ],
   "source": [
    "show_doc_from_name('gen_doc.nbdoc','get_fn_link',\n",
    "                   arg_comments={'ft':'the name of a function'})"
   ]
  },
  {
   "cell_type": "markdown",
   "metadata": {},
   "source": [
    "This function gives you the link you can use in markdown for a given function."
   ]
  },
  {
   "cell_type": "code",
   "execution_count": null,
   "metadata": {},
   "outputs": [
    {
     "data": {
      "text/plain": [
       "'gen_doc.gen_notebooks.ipynb#create_module_page'"
      ]
     },
     "execution_count": null,
     "metadata": {},
     "output_type": "execute_result"
    }
   ],
   "source": [
    "from gen_doc.gen_notebooks import create_module_page\n",
    "get_fn_link(create_module_page)"
   ]
  },
  {
   "cell_type": "markdown",
   "metadata": {},
   "source": [
    "Using it inside a mardown cell will give you a link that sends you there: [link](gen_doc.gen_notebooks.ipynb#create_module_page)"
   ]
  },
  {
   "cell_type": "markdown",
   "metadata": {},
   "source": [
    "**Important note:** Anchors don't work in a notebook that hasn't been trusted (since the html content isn't available)."
   ]
  },
  {
   "cell_type": "code",
   "execution_count": null,
   "metadata": {
    "hide_input": false
   },
   "outputs": [
    {
     "data": {
      "text/markdown": [
       "<a id=get_module_toc></a>**get_module_toc**(<em>mod_name</em>)\n",
       "\n",
       "\n",
       "- *mod_name*: the name of the module"
      ],
      "text/plain": [
       "<IPython.core.display.Markdown object>"
      ]
     },
     "metadata": {},
     "output_type": "display_data"
    }
   ],
   "source": [
    "show_doc_from_name('gen_doc.nbdoc','get_module_toc', arg_comments={'mod_name':'the name of the module'})"
   ]
  },
  {
   "cell_type": "markdown",
   "metadata": {},
   "source": [
    "This will display the table of contents of the module. Note that updating the module will automatically update this table of contents when the notebooks is re-executed."
   ]
  },
  {
   "cell_type": "code",
   "execution_count": null,
   "metadata": {
    "hide_input": false
   },
   "outputs": [
    {
     "data": {
      "text/markdown": [
       "<a id=show_doc></a>**show_doc**(<em>elt</em>, <em>doc_string</em>=True, <em>full_name</em>=None, <em>arg_comments</em>={}, <em>alt_doc_string</em>=)\n",
       "\n",
       "\n",
       "- *elt*: the python function or class instance you want the doc of\n",
       "- *doc_string*: decides if you show the doc string or not\n",
       "- *full_name*: the full name of the function\n",
       "- *arg_comments*: a dictionnary adding comments for each argument\n",
       "- *alt_doc_string*: an additional text to display after the doc string (or in replacement if doc_string is False)"
      ],
      "text/plain": [
       "<IPython.core.display.Markdown object>"
      ]
     },
     "metadata": {},
     "output_type": "display_data"
    }
   ],
   "source": [
    "show_doc_from_name('gen_doc.nbdoc','show_doc',\n",
    "                   arg_comments={'elt': 'the python function or class instance you want the doc of',\n",
    "                                 'doc_string': 'decides if you show the doc string or not',\n",
    "                                 'full_name': 'the full name of the function',\n",
    "                                 'arg_comments': 'a dictionnary adding comments for each argument',\n",
    "                                 'alt_doc_string': 'an additional text to display after the doc string (or in replacement if doc_string is False)'})"
   ]
  },
  {
   "cell_type": "markdown",
   "metadata": {},
   "source": [
    "This is helpful to show the documentation of a function on the fly, a bit like ? in jupyter cells."
   ]
  },
  {
   "cell_type": "code",
   "execution_count": null,
   "metadata": {},
   "outputs": [
    {
     "data": {
      "text/markdown": [
       "<a id=create_module_page></a>**create_module_page**(<em>mod_name</em>, <em>dest_path</em>)\n",
       "\n",
       "\n",
       "Creates the documentation notebook of a given module"
      ],
      "text/plain": [
       "<IPython.core.display.Markdown object>"
      ]
     },
     "metadata": {},
     "output_type": "display_data"
    }
   ],
   "source": [
    "show_doc(create_module_page)"
   ]
  },
  {
   "cell_type": "code",
   "execution_count": null,
   "metadata": {
    "hide_input": true
   },
   "outputs": [
    {
     "data": {
      "text/markdown": [
       "<a id=show_doc_from_name></a>**show_doc_from_name**(<em>mod_name</em>, <em>ft_name</em>, <em>doc_string</em>=True, <em>arg_comments</em>={}, <em>alt_doc_string</em>=)\n",
       "\n",
       "\n",
       "- *mod_name*: the name of the module\n",
       "- *ft_name*: the name of the function\n",
       "- *doc_string*: decides if you show the doc string or not\n",
       "- *arg_comments*: a dictionnary adding comments for each argument\n",
       "- *alt_doc_string*: an additional text to display after the doc string (or in replacement if doc_string is False)"
      ],
      "text/plain": [
       "<IPython.core.display.Markdown object>"
      ]
     },
     "metadata": {},
     "output_type": "display_data"
    }
   ],
   "source": [
    "show_doc_from_name('gen_doc.nbdoc','show_doc_from_name',\n",
    "                   arg_comments={'mod_name': 'the name of the module',\n",
    "                                 'ft_name': 'the name of the function',\n",
    "                                 'doc_string': 'decides if you show the doc string or not',\n",
    "                                 'full_name': 'the full name of the function',\n",
    "                                 'arg_comments': 'a dictionnary adding comments for each argument',\n",
    "                                 'alt_doc_string': 'an additional text to display after the doc string (or in replacement if doc_string is False)'})"
   ]
  },
  {
   "cell_type": "markdown",
   "metadata": {},
   "source": [
    "This is the primary function to use when showing the documentation of a given function. Note that if the function is modified and arguments disappear/appear, it will be reflected in the notebook once it's re-executed.\n",
    "\n",
    "This function parses the argument and extracts the annotations for the type as well as the defaults."
   ]
  },
  {
   "cell_type": "code",
   "execution_count": null,
   "metadata": {
    "hide_input": true
   },
   "outputs": [
    {
     "data": {
      "text/markdown": [
       "<a id=show_video></a>**show_video**(<em>url</em>)\n",
       "\n",
       "\n",
       "- *url*: the url of the video"
      ],
      "text/plain": [
       "<IPython.core.display.Markdown object>"
      ]
     },
     "metadata": {},
     "output_type": "display_data"
    }
   ],
   "source": [
    "show_doc_from_name('gen_doc.nbdoc','show_video', arg_comments={'url':'the url of the video'})"
   ]
  },
  {
   "cell_type": "markdown",
   "metadata": {},
   "source": [
    "Displays a cell containing the video. It should be an embedding link to work properly. For youtube videos, you should use the next function."
   ]
  },
  {
   "cell_type": "code",
   "execution_count": null,
   "metadata": {
    "hide_input": true
   },
   "outputs": [
    {
     "data": {
      "text/markdown": [
       "<a id=show_video_from_youtube></a>**show_video_from_youtube**(<em>code</em>, <em>start</em>=0)\n",
       "\n",
       "\n",
       "- *code*: the youtube code of the video\n",
       "- *start*: the start time in seconds"
      ],
      "text/plain": [
       "<IPython.core.display.Markdown object>"
      ]
     },
     "metadata": {},
     "output_type": "display_data"
    }
   ],
   "source": [
    "show_doc_from_name('gen_doc.nbdoc','show_video_from_youtube',\n",
    "                   arg_comments={'code': 'the youtube code of the video',\n",
    "                                 'start': 'the start time in seconds'})"
   ]
  },
  {
   "cell_type": "markdown",
   "metadata": {},
   "source": [
    "This is a useful function if you want to link the concepts explained to a specific part of a video (for instance, the MOOK). If the link for a youtube video is https://youtu.be/IPBSB1HLNLo, the code is the part from the / to the end."
   ]
  },
  {
   "cell_type": "code",
   "execution_count": null,
   "metadata": {},
   "outputs": [
    {
     "data": {
      "text/html": [
       "<iframe width=\"560\" height=\"315\" src=\"https://www.youtube.com/embed/IPBSB1HLNLo?start=0&amp;rel=0&amp;controls=0&amp;showinfo=0\" frameborder=\"0\" allowfullscreen></iframe>"
      ],
      "text/plain": [
       "<IPython.core.display.HTML object>"
      ]
     },
     "metadata": {},
     "output_type": "display_data"
    }
   ],
   "source": [
    "show_video_from_youtube('IPBSB1HLNLo')"
   ]
  }
 ],
 "metadata": {
  "kernelspec": {
   "display_name": "Python 3",
   "language": "python",
   "name": "python3"
  }
 },
 "nbformat": 4,
 "nbformat_minor": 2
}
