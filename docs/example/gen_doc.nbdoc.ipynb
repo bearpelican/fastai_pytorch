{
 "cells": [
  {
   "cell_type": "markdown",
   "metadata": {},
   "source": [
    "# gen_doc.nbdoc"
   ]
  },
  {
   "cell_type": "markdown",
   "metadata": {},
   "source": [
    "Type an introduction of the package here."
   ]
  },
  {
   "cell_type": "code",
   "execution_count": null,
   "metadata": {
    "hide_input": true
   },
   "outputs": [],
   "source": [
    "from gen_doc.nbdoc import * "
   ]
  },
  {
   "cell_type": "code",
   "execution_count": null,
   "metadata": {
    "hide_input": true
   },
   "outputs": [
    {
     "data": {
      "text/markdown": [
       "- [create_anchor](#create_anchor)\n",
       "- [get_class_toc](#get_class_toc)\n",
       "- [get_fn_link](#get_fn_link)\n",
       "- [get_module_toc](#get_module_toc)\n",
       "- [show_doc](#show_doc)\n",
       "- [show_doc_from_name](#show_doc_from_name)\n",
       "- [show_video](#show_video)\n",
       "- [show_video_from_youtube](#show_video_from_youtube)\n"
      ],
      "text/plain": [
       "<IPython.core.display.Markdown object>"
      ]
     },
     "metadata": {},
     "output_type": "display_data"
    }
   ],
   "source": [
    "get_module_toc(\"gen_doc.nbdoc\")"
   ]
  },
  {
   "cell_type": "markdown",
   "metadata": {},
   "source": [
    "__all__ = ['create_anchor', 'get_class_toc', 'get_fn_link', 'get_module_toc', 'show_doc', 'show_doc_from_name',<div style=\"text-align: right\"><a href=\"gen_doc/nbdoc.py#L4\">[source]</a></div>"
   ]
  },
  {
   "cell_type": "markdown",
   "metadata": {},
   "source": [
    "BT_REGEX = re.compile(\"`([^`]*)`\")<div style=\"text-align: right\"><a href=\"gen_doc/nbdoc.py#L90\">[source]</a></div>"
   ]
  },
  {
   "cell_type": "code",
   "execution_count": null,
   "metadata": {
    "hide_input": true
   },
   "outputs": [
    {
     "data": {
      "text/markdown": [
       "<a id=create_anchor></a>**create_anchor**(<em>name</em>)<div style=\"text-align: right\"><a href=\"gen_doc/nbdoc.py#L195\">[source]</a></div>"
      ],
      "text/plain": [
       "<IPython.core.display.Markdown object>"
      ]
     },
     "metadata": {},
     "output_type": "display_data"
    }
   ],
   "source": [
    "show_doc_from_name('gen_doc.nbdoc','create_anchor')"
   ]
  },
  {
   "cell_type": "markdown",
   "metadata": {},
   "source": []
  },
  {
   "cell_type": "code",
   "execution_count": null,
   "metadata": {
    "hide_input": true
   },
   "outputs": [
    {
     "data": {
      "text/markdown": [
       "<a id=get_class_toc></a>**get_class_toc**(<em>mod_name</em>, <em>cls_name</em>)<div style=\"text-align: right\"><a href=\"gen_doc/nbdoc.py#L155\">[source]</a></div>"
      ],
      "text/plain": [
       "<IPython.core.display.Markdown object>"
      ]
     },
     "metadata": {},
     "output_type": "display_data"
    }
   ],
   "source": [
    "show_doc_from_name('gen_doc.nbdoc','get_class_toc')"
   ]
  },
  {
   "cell_type": "markdown",
   "metadata": {},
   "source": []
  },
  {
   "cell_type": "code",
   "execution_count": null,
   "metadata": {
    "hide_input": true
   },
   "outputs": [
    {
     "data": {
      "text/markdown": [
       "<a id=get_fn_link></a>**get_fn_link**(<em>ft</em>)<div style=\"text-align: right\"><a href=\"gen_doc/nbdoc.py#L182\">[source]</a></div>"
      ],
      "text/plain": [
       "<IPython.core.display.Markdown object>"
      ]
     },
     "metadata": {},
     "output_type": "display_data"
    }
   ],
   "source": [
    "show_doc_from_name('gen_doc.nbdoc','get_fn_link')"
   ]
  },
  {
   "cell_type": "markdown",
   "metadata": {},
   "source": []
  },
  {
   "cell_type": "code",
   "execution_count": null,
   "metadata": {
    "hide_input": true
   },
   "outputs": [
    {
     "data": {
      "text/markdown": [
       "<a id=get_module_toc></a>**get_module_toc**(<em>mod_name</em>)<div style=\"text-align: right\"><a href=\"gen_doc/nbdoc.py#L141\">[source]</a></div>"
      ],
      "text/plain": [
       "<IPython.core.display.Markdown object>"
      ]
     },
     "metadata": {},
     "output_type": "display_data"
    }
   ],
   "source": [
    "show_doc_from_name('gen_doc.nbdoc','get_module_toc')"
   ]
  },
  {
   "cell_type": "markdown",
   "metadata": {},
   "source": []
  },
  {
   "cell_type": "code",
   "execution_count": null,
   "metadata": {
    "hide_input": true
   },
   "outputs": [
    {
     "data": {
      "text/markdown": [
       "<a id=show_doc></a>**show_doc**(<em>elt</em>, <em>doc_string</em>=True, <em>full_name</em>=None, <em>arg_comments</em>={}, <em>alt_doc_string</em>=)<div style=\"text-align: right\"><a href=\"gen_doc/nbdoc.py#L61\">[source]</a></div>"
      ],
      "text/plain": [
       "<IPython.core.display.Markdown object>"
      ]
     },
     "metadata": {},
     "output_type": "display_data"
    }
   ],
   "source": [
    "show_doc_from_name('gen_doc.nbdoc','show_doc')"
   ]
  },
  {
   "cell_type": "markdown",
   "metadata": {},
   "source": []
  },
  {
   "cell_type": "code",
   "execution_count": null,
   "metadata": {
    "hide_input": true
   },
   "outputs": [
    {
     "data": {
      "text/markdown": [
       "<a id=show_doc_from_name></a>**show_doc_from_name**(<em>mod_name</em>, <em>ft_name</em>, <em>doc_string</em>=True, <em>arg_comments</em>={}, <em>alt_doc_string</em>=)<div style=\"text-align: right\"><a href=\"gen_doc/nbdoc.py#L111\">[source]</a></div>"
      ],
      "text/plain": [
       "<IPython.core.display.Markdown object>"
      ]
     },
     "metadata": {},
     "output_type": "display_data"
    }
   ],
   "source": [
    "show_doc_from_name('gen_doc.nbdoc','show_doc_from_name')"
   ]
  },
  {
   "cell_type": "markdown",
   "metadata": {},
   "source": []
  },
  {
   "cell_type": "code",
   "execution_count": null,
   "metadata": {
    "hide_input": true
   },
   "outputs": [
    {
     "data": {
      "text/markdown": [
       "<a id=show_video></a>**show_video**(<em>url</em>)<div style=\"text-align: right\"><a href=\"gen_doc/nbdoc.py#L174\">[source]</a></div>"
      ],
      "text/plain": [
       "<IPython.core.display.Markdown object>"
      ]
     },
     "metadata": {},
     "output_type": "display_data"
    }
   ],
   "source": [
    "show_doc_from_name('gen_doc.nbdoc','show_video')"
   ]
  },
  {
   "cell_type": "markdown",
   "metadata": {},
   "source": []
  },
  {
   "cell_type": "code",
   "execution_count": null,
   "metadata": {
    "hide_input": true
   },
   "outputs": [
    {
     "data": {
      "text/markdown": [
       "<a id=show_video_from_youtube></a>**show_video_from_youtube**(<em>code</em>, <em>start</em>=0)<div style=\"text-align: right\"><a href=\"gen_doc/nbdoc.py#L178\">[source]</a></div>"
      ],
      "text/plain": [
       "<IPython.core.display.Markdown object>"
      ]
     },
     "metadata": {},
     "output_type": "display_data"
    }
   ],
   "source": [
    "show_doc_from_name('gen_doc.nbdoc','show_video_from_youtube')"
   ]
  },
  {
   "cell_type": "markdown",
   "metadata": {},
   "source": []
  }
 ],
 "metadata": {
  "kernelspec": {
   "display_name": "Python 3",
   "language": "python",
   "name": "python3"
  }
 },
 "nbformat": 4,
 "nbformat_minor": 2
}
