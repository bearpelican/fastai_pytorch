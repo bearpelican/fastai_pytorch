{
 "cells": [
  {
   "cell_type": "markdown",
   "metadata": {},
   "source": [
    "# gen_doc.gen_notebooks"
   ]
  },
  {
   "cell_type": "markdown",
   "metadata": {},
   "source": [
    "This module contains the scripts to auto-generate or update the notebooks from a given .py file or a full package. To use in a script and not a library, use sgen_notebooks."
   ]
  },
  {
   "cell_type": "markdown",
   "metadata": {},
   "source": [
    "**Important notes:** \n",
    " - In all the functions below, the functions and classes considered in a notebook are defined by the attribute \\_\\_all\\_\\_.\n",
    " - It is assumed the destination folder\n",
    "   1. has the file nbdoc.py to get the doc functions\n",
    "   2. has a simlink to the package you want to document if that package isn't installed"
   ]
  },
  {
   "cell_type": "code",
   "execution_count": null,
   "metadata": {
    "hide_input": true
   },
   "outputs": [],
   "source": [
    "from gen_doc.nbdoc import * "
   ]
  },
  {
   "cell_type": "code",
   "execution_count": null,
   "metadata": {
    "hide_input": true
   },
   "outputs": [
    {
     "data": {
      "text/markdown": [
       "- [create_module_page](#create_module_page)\n",
       "- [generate_all](#generate_all)\n",
       "- [update_all](#update_all)\n",
       "- [update_module_page](#update_module_page)\n"
      ],
      "text/plain": [
       "<IPython.core.display.Markdown object>"
      ]
     },
     "metadata": {},
     "output_type": "display_data"
    }
   ],
   "source": [
    "get_module_toc(\"gen_doc.gen_notebooks\")"
   ]
  },
  {
   "cell_type": "code",
   "execution_count": null,
   "metadata": {
    "hide_input": true
   },
   "outputs": [
    {
     "data": {
      "text/markdown": [
       "<a id=create_module_page></a>**create_module_page**\n",
       "\n",
       "Arguments:\n",
       "- **mod_name**: the name of the module\n",
       "- **dest_path**: the folder in which to generate the notebook\n",
       "\n",
       "Creates the documentation notebook of a given module."
      ],
      "text/plain": [
       "<IPython.core.display.Markdown object>"
      ]
     },
     "metadata": {},
     "output_type": "display_data"
    }
   ],
   "source": [
    "show_doc_from_name('gen_doc.gen_notebooks','create_module_page', \n",
    "                   arg_comments={'mod_name': 'the name of the module',\n",
    "                                 'dest_path': 'the folder in which to generate the notebook'})"
   ]
  },
  {
   "cell_type": "code",
   "execution_count": null,
   "metadata": {
    "hide_input": true
   },
   "outputs": [
    {
     "data": {
      "text/markdown": [
       "<a id=create_module_page></a>**create_module_page**\n",
       "\n",
       "Arguments:\n",
       "- **mod_name**: the name of the module\n",
       "- **dest_path**: the folder in which to generate the notebook\n",
       "\n",
       "Creates the documentation notebook of a given module."
      ],
      "text/plain": [
       "<IPython.core.display.Markdown object>"
      ]
     },
     "metadata": {},
     "output_type": "display_data"
    }
   ],
   "source": [
    "show_doc(gen_doc.gen_notebooks.create_module_page)"
   ]
  },
  {
   "cell_type": "markdown",
   "metadata": {},
   "source": [
    "**create_module_page**(mod_name:str, dest_path:str=None)\n",
    "\n",
    "*Creates the documentation notebook for module `mod_name` in path `dest_path`*"
   ]
  },
  {
   "cell_type": "code",
   "execution_count": null,
   "metadata": {
    "hide_input": true
   },
   "outputs": [
    {
     "data": {
      "text/markdown": [
       "<a id=generate_all></a>**generate_all**\n",
       "\n",
       "Arguments:\n",
       "- **pkg_name**: name of the package to document\n",
       "- **dest_path**: the folder in which to generate the notebooks\n",
       "- **exclude**: names of subdirectories to ignore, *default ['.ipynb_checkpoints', '__pycache__']*\n",
       "\n",
       "Generate the documentation for all the modules in a given package."
      ],
      "text/plain": [
       "<IPython.core.display.Markdown object>"
      ]
     },
     "metadata": {},
     "output_type": "display_data"
    }
   ],
   "source": [
    "show_doc_from_name('gen_doc.gen_notebooks','generate_all',\n",
    "                   arg_comments={'pkg_name': 'name of the package to document',\n",
    "                                 'dest_path': 'the folder in which to generate the notebooks',\n",
    "                                 'exclude': 'names of subdirectories to ignore'})"
   ]
  },
  {
   "cell_type": "code",
   "execution_count": null,
   "metadata": {
    "hide_input": true
   },
   "outputs": [
    {
     "data": {
      "text/markdown": [
       "<a id=update_all></a>**update_all**\n",
       "\n",
       "Arguments:\n",
       "- **mod_name**: name of the package to document\n",
       "- **dest_path**: the folder in which to generate the notebooks\n",
       "- **exclude**: names of subdirectories to ignore, *default ['.ipynb_checkpoints', '__pycache__']*\n",
       "\n",
       "Updates all the notebooks in a given package."
      ],
      "text/plain": [
       "<IPython.core.display.Markdown object>"
      ]
     },
     "metadata": {},
     "output_type": "display_data"
    }
   ],
   "source": [
    "show_doc_from_name('gen_doc.gen_notebooks','update_all',\n",
    "                   arg_comments={'mod_name': 'name of the package to document',\n",
    "                                 'dest_path': 'the folder in which to generate the notebooks',\n",
    "                                 'exclude': 'names of subdirectories to ignore'})"
   ]
  },
  {
   "cell_type": "markdown",
   "metadata": {},
   "source": [
    "**Important note:** During an update, all the cells added by a user are conserved, only the cells of new functions (aka that weren't documented before) will be inserted."
   ]
  },
  {
   "cell_type": "code",
   "execution_count": null,
   "metadata": {
    "hide_input": true
   },
   "outputs": [
    {
     "data": {
      "text/markdown": [
       "<a id=update_module_page></a>**update_module_page**\n",
       "\n",
       "Arguments:\n",
       "- **mod_name**: the name of the module\n",
       "- **dest_path**: the folder in which to generate the notebook\n",
       "\n",
       "Updates the documentation notebook of a given module."
      ],
      "text/plain": [
       "<IPython.core.display.Markdown object>"
      ]
     },
     "metadata": {},
     "output_type": "display_data"
    }
   ],
   "source": [
    "show_doc_from_name('gen_doc.gen_notebooks','update_module_page',\n",
    "                   arg_comments={'mod_name': 'the name of the module',\n",
    "                                 'dest_path': 'the folder in which to generate the notebook'})"
   ]
  }
 ],
 "metadata": {
  "kernelspec": {
   "display_name": "Python 3",
   "language": "python",
   "name": "python3"
  }
 },
 "nbformat": 4,
 "nbformat_minor": 2
}
