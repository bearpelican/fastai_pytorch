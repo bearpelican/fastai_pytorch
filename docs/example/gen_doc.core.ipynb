{
 "cells": [
  {
   "cell_type": "markdown",
   "metadata": {},
   "source": [
    "# gen_doc.core"
   ]
  },
  {
   "cell_type": "markdown",
   "metadata": {},
   "source": [
    "Type an introduction of the package here."
   ]
  },
  {
   "cell_type": "code",
   "execution_count": null,
   "metadata": {
    "hide_input": true
   },
   "outputs": [],
   "source": [
    "from gen_doc.nbdoc import * "
   ]
  },
  {
   "cell_type": "code",
   "execution_count": null,
   "metadata": {
    "hide_input": true
   },
   "outputs": [
    {
     "data": {
      "text/markdown": [
       "- [annealing_cos](#annealing_cos)\n",
       "- [annealing_exp](#annealing_exp)\n",
       "- [annealing_linear](#annealing_linear)\n",
       "- [annealing_no](#annealing_no)\n",
       "- [annealing_poly](#annealing_poly)\n",
       "- [do_annealing_poly](#do_annealing_poly)\n",
       "- [example_function](#example_function)\n",
       "- [is_iterable](#is_iterable)\n",
       "- [is_listy](#is_listy)\n",
       "- [is_tuple](#is_tuple)\n",
       "- [linked_docstring_example](#linked_docstring_example)\n",
       "- [listify](#listify)\n",
       "- [Parentclass](#Parentclass)\n",
       "- [SmoothenValue](#SmoothenValue)\n",
       "  - [SmoothenValue.add_value](#SmoothenValue.add_value)\n",
       "- [Subclass](#Subclass)\n",
       "  - [Subclass.update](#Subclass.update)\n",
       "  - [Subclass.remove](#Subclass.remove)\n"
      ],
      "text/plain": [
       "<IPython.core.display.Markdown object>"
      ]
     },
     "metadata": {},
     "output_type": "display_data"
    }
   ],
   "source": [
    "get_module_toc(\"gen_doc.core\")"
   ]
  },
  {
   "cell_type": "markdown",
   "metadata": {},
   "source": [
    "### Global Variable Definitions:"
   ]
  },
  {
   "cell_type": "markdown",
   "metadata": {},
   "source": [
    "`FileLike = Union[str, Path]` <div style=\"text-align: right\"><a href=\"gen_doc/core.py#L9\">[source]</a></div>"
   ]
  },
  {
   "cell_type": "markdown",
   "metadata": {},
   "source": [
    "`Floats = Union[float, Collection[float]]` <div style=\"text-align: right\"><a href=\"gen_doc/core.py#L10\">[source]</a></div>"
   ]
  },
  {
   "cell_type": "markdown",
   "metadata": {},
   "source": [
    "`AnnealingFt = Union[Callable[[float,float,float],float],Callable[[float,float,float,float],float]]` <div style=\"text-align: right\"><a href=\"gen_doc/core.py#L11\">[source]</a></div>"
   ]
  },
  {
   "cell_type": "code",
   "execution_count": null,
   "metadata": {
    "hide_input": true
   },
   "outputs": [
    {
     "data": {
      "text/markdown": [
       "<a id=annealing_cos></a>**annealing_cos**(<em>start</em>: float, <em>end</em>: float, <em>pct</em>: float) -> float<div style=\"text-align: right\"><a href=\"gen_doc/core.py#L70\">[source]</a></div>"
      ],
      "text/plain": [
       "<IPython.core.display.Markdown object>"
      ]
     },
     "metadata": {},
     "output_type": "display_data"
    }
   ],
   "source": [
    "show_doc_from_name('gen_doc.core','annealing_cos')"
   ]
  },
  {
   "cell_type": "markdown",
   "metadata": {},
   "source": []
  },
  {
   "cell_type": "code",
   "execution_count": null,
   "metadata": {
    "hide_input": true
   },
   "outputs": [
    {
     "data": {
      "text/markdown": [
       "<a id=annealing_exp></a>**annealing_exp**(<em>start</em>: float, <em>end</em>: float, <em>pct</em>: float) -> float<div style=\"text-align: right\"><a href=\"gen_doc/core.py#L69\">[source]</a></div>"
      ],
      "text/plain": [
       "<IPython.core.display.Markdown object>"
      ]
     },
     "metadata": {},
     "output_type": "display_data"
    }
   ],
   "source": [
    "show_doc_from_name('gen_doc.core','annealing_exp')"
   ]
  },
  {
   "cell_type": "markdown",
   "metadata": {},
   "source": []
  },
  {
   "cell_type": "code",
   "execution_count": null,
   "metadata": {
    "hide_input": true
   },
   "outputs": [
    {
     "data": {
      "text/markdown": [
       "<a id=annealing_linear></a>**annealing_linear**(<em>start</em>: float, <em>end</em>: float, <em>pct</em>: float) -> float<div style=\"text-align: right\"><a href=\"gen_doc/core.py#L68\">[source]</a></div>"
      ],
      "text/plain": [
       "<IPython.core.display.Markdown object>"
      ]
     },
     "metadata": {},
     "output_type": "display_data"
    }
   ],
   "source": [
    "show_doc_from_name('gen_doc.core','annealing_linear')"
   ]
  },
  {
   "cell_type": "markdown",
   "metadata": {},
   "source": []
  },
  {
   "cell_type": "code",
   "execution_count": null,
   "metadata": {
    "hide_input": true
   },
   "outputs": [
    {
     "data": {
      "text/markdown": [
       "<a id=annealing_no></a>**annealing_no**(<em>start</em>: float, <em>end</em>: float, <em>pct</em>: float) -> float<div style=\"text-align: right\"><a href=\"gen_doc/core.py#L67\">[source]</a></div>"
      ],
      "text/plain": [
       "<IPython.core.display.Markdown object>"
      ]
     },
     "metadata": {},
     "output_type": "display_data"
    }
   ],
   "source": [
    "show_doc_from_name('gen_doc.core','annealing_no')"
   ]
  },
  {
   "cell_type": "markdown",
   "metadata": {},
   "source": []
  },
  {
   "cell_type": "code",
   "execution_count": null,
   "metadata": {
    "hide_input": true
   },
   "outputs": [
    {
     "data": {
      "text/markdown": [
       "<a id=annealing_poly></a>**annealing_poly**(<em>degree</em>: float) -> Callable<div style=\"text-align: right\"><a href=\"gen_doc/core.py#L76\">[source]</a></div>"
      ],
      "text/plain": [
       "<IPython.core.display.Markdown object>"
      ]
     },
     "metadata": {},
     "output_type": "display_data"
    }
   ],
   "source": [
    "show_doc_from_name('gen_doc.core','annealing_poly')"
   ]
  },
  {
   "cell_type": "markdown",
   "metadata": {},
   "source": []
  },
  {
   "cell_type": "code",
   "execution_count": null,
   "metadata": {
    "hide_input": true
   },
   "outputs": [
    {
     "data": {
      "text/markdown": [
       "<a id=do_annealing_poly></a>**do_annealing_poly**(<em>start</em>: float, <em>end</em>: float, <em>pct</em>: float, <em>degree</em>: float) -> float<div style=\"text-align: right\"><a href=\"gen_doc/core.py#L74\">[source]</a></div>"
      ],
      "text/plain": [
       "<IPython.core.display.Markdown object>"
      ]
     },
     "metadata": {},
     "output_type": "display_data"
    }
   ],
   "source": [
    "show_doc_from_name('gen_doc.core','do_annealing_poly')"
   ]
  },
  {
   "cell_type": "markdown",
   "metadata": {},
   "source": []
  },
  {
   "cell_type": "code",
   "execution_count": null,
   "metadata": {
    "hide_input": true
   },
   "outputs": [
    {
     "data": {
      "text/markdown": [
       "<a id=example_function></a>**example_function**(<em>x</em>: int, <em>cls</em>: [Parentclass](gen_doc.core.ipynb#Parentclass)=None) -> str<div style=\"text-align: right\"><a href=\"gen_doc/core.py#L28\">[source]</a></div>\n",
       "\n",
       "\n",
       "Provides an example to how docstrings are resolved\n",
       "\n",
       "- *x*: Number to store\n",
       "\n",
       "- *cls*: Class string\n",
       "\n",
       "\n",
       "*return*: Error string"
      ],
      "text/plain": [
       "<IPython.core.display.Markdown object>"
      ]
     },
     "metadata": {},
     "output_type": "display_data"
    }
   ],
   "source": [
    "show_doc_from_name('gen_doc.core','example_function')"
   ]
  },
  {
   "cell_type": "markdown",
   "metadata": {},
   "source": []
  },
  {
   "cell_type": "code",
   "execution_count": null,
   "metadata": {
    "hide_input": true
   },
   "outputs": [
    {
     "data": {
      "text/markdown": [
       "<a id=is_iterable></a>**is_iterable**(<em>x</em>) -> bool<div style=\"text-align: right\"><a href=\"gen_doc/core.py#L43\">[source]</a></div>"
      ],
      "text/plain": [
       "<IPython.core.display.Markdown object>"
      ]
     },
     "metadata": {},
     "output_type": "display_data"
    }
   ],
   "source": [
    "show_doc_from_name('gen_doc.core','is_iterable')"
   ]
  },
  {
   "cell_type": "markdown",
   "metadata": {},
   "source": []
  },
  {
   "cell_type": "code",
   "execution_count": null,
   "metadata": {
    "hide_input": true
   },
   "outputs": [
    {
     "data": {
      "text/markdown": [
       "<a id=is_listy></a>**is_listy**(<em>x</em>) -> bool<div style=\"text-align: right\"><a href=\"gen_doc/core.py#L42\">[source]</a></div>"
      ],
      "text/plain": [
       "<IPython.core.display.Markdown object>"
      ]
     },
     "metadata": {},
     "output_type": "display_data"
    }
   ],
   "source": [
    "show_doc_from_name('gen_doc.core','is_listy')"
   ]
  },
  {
   "cell_type": "markdown",
   "metadata": {},
   "source": []
  },
  {
   "cell_type": "code",
   "execution_count": null,
   "metadata": {
    "hide_input": true
   },
   "outputs": [
    {
     "data": {
      "text/markdown": [
       "<a id=is_tuple></a>**is_tuple**(<em>x</em>) -> bool<div style=\"text-align: right\"><a href=\"gen_doc/core.py#L41\">[source]</a></div>"
      ],
      "text/plain": [
       "<IPython.core.display.Markdown object>"
      ]
     },
     "metadata": {},
     "output_type": "display_data"
    }
   ],
   "source": [
    "show_doc_from_name('gen_doc.core','is_tuple')"
   ]
  },
  {
   "cell_type": "markdown",
   "metadata": {},
   "source": []
  },
  {
   "cell_type": "code",
   "execution_count": null,
   "metadata": {
    "hide_input": true
   },
   "outputs": [
    {
     "data": {
      "text/markdown": [
       "<a id=linked_docstring_example></a>**linked_docstring_example**(<em>x</em>: int, <em>s</em>: str=Hello) -> bool<div style=\"text-align: right\"><a href=\"gen_doc/core.py#L37\">[source]</a></div>\n",
       "\n",
       "\n",
       "Should link to [`example_function`](gen_doc.core.ipynb#example_function)"
      ],
      "text/plain": [
       "<IPython.core.display.Markdown object>"
      ]
     },
     "metadata": {},
     "output_type": "display_data"
    }
   ],
   "source": [
    "show_doc_from_name('gen_doc.core','linked_docstring_example')"
   ]
  },
  {
   "cell_type": "markdown",
   "metadata": {},
   "source": []
  },
  {
   "cell_type": "code",
   "execution_count": null,
   "metadata": {
    "hide_input": true
   },
   "outputs": [
    {
     "data": {
      "text/markdown": [
       "<a id=listify></a>**listify**(<em>p</em>=None, <em>q</em>=None) -> Collection<div style=\"text-align: right\"><a href=\"gen_doc/core.py#L45\">[source]</a></div>\n",
       "\n",
       "\n",
       "Makes p a list that looks like q"
      ],
      "text/plain": [
       "<IPython.core.display.Markdown object>"
      ]
     },
     "metadata": {},
     "output_type": "display_data"
    }
   ],
   "source": [
    "show_doc_from_name('gen_doc.core','listify')"
   ]
  },
  {
   "cell_type": "markdown",
   "metadata": {},
   "source": []
  },
  {
   "cell_type": "code",
   "execution_count": null,
   "metadata": {
    "hide_input": true
   },
   "outputs": [
    {
     "data": {
      "text/markdown": [
       "<a id=Parentclass></a><em>class</em> **Parentclass**()<div style=\"text-align: right\"><a href=\"gen_doc/core.py#L15\">[source]</a></div>"
      ],
      "text/plain": [
       "<IPython.core.display.Markdown object>"
      ]
     },
     "metadata": {},
     "output_type": "display_data"
    }
   ],
   "source": [
    "show_doc_from_name('gen_doc.core','Parentclass')"
   ]
  },
  {
   "cell_type": "markdown",
   "metadata": {},
   "source": []
  },
  {
   "cell_type": "code",
   "execution_count": null,
   "metadata": {
    "hide_input": true
   },
   "outputs": [
    {
     "data": {
      "text/markdown": [
       "<a id=SmoothenValue></a><em>class</em> **SmoothenValue**(<em>beta</em>: float)<div style=\"text-align: right\"><a href=\"gen_doc/core.py#L53\">[source]</a></div>\n",
       "\n",
       "\n",
       "To compute the moving average of values"
      ],
      "text/plain": [
       "<IPython.core.display.Markdown object>"
      ]
     },
     "metadata": {},
     "output_type": "display_data"
    }
   ],
   "source": [
    "show_doc_from_name('gen_doc.core','SmoothenValue')"
   ]
  },
  {
   "cell_type": "markdown",
   "metadata": {},
   "source": []
  },
  {
   "cell_type": "code",
   "execution_count": null,
   "metadata": {
    "hide_input": true
   },
   "outputs": [
    {
     "data": {
      "text/markdown": [
       "<a id=SmoothenValue.add_value></a>**SmoothenValue.add_value**(<em>self</em>, <em>val</em>: float)<div style=\"text-align: right\"><a href=\"gen_doc/core.py#L62\">[source]</a></div>"
      ],
      "text/plain": [
       "<IPython.core.display.Markdown object>"
      ]
     },
     "metadata": {},
     "output_type": "display_data"
    }
   ],
   "source": [
    "show_doc_from_name('gen_doc.core','SmoothenValue.add_value')"
   ]
  },
  {
   "cell_type": "markdown",
   "metadata": {},
   "source": []
  },
  {
   "cell_type": "code",
   "execution_count": null,
   "metadata": {
    "hide_input": true
   },
   "outputs": [
    {
     "data": {
      "text/markdown": [
       "<a id=Subclass></a><em>class</em> **Subclass**(<em>var</em>: int=10) :: Inherits from ([`Parentclass`](gen_doc.core.ipynb#Parentclass))<div style=\"text-align: right\"><a href=\"gen_doc/core.py#L18\">[source]</a></div>"
      ],
      "text/plain": [
       "<IPython.core.display.Markdown object>"
      ]
     },
     "metadata": {},
     "output_type": "display_data"
    }
   ],
   "source": [
    "show_doc_from_name('gen_doc.core','Subclass')"
   ]
  },
  {
   "cell_type": "markdown",
   "metadata": {},
   "source": []
  },
  {
   "cell_type": "code",
   "execution_count": null,
   "metadata": {
    "hide_input": true
   },
   "outputs": [
    {
     "data": {
      "text/markdown": [
       "<a id=Subclass.cmethod></a>**Subclass.cmethod**(<em>x</em>)<div style=\"text-align: right\"><a href=\"gen_doc/core.py#L25\">[source]</a></div>"
      ],
      "text/plain": [
       "<IPython.core.display.Markdown object>"
      ]
     },
     "metadata": {},
     "output_type": "display_data"
    }
   ],
   "source": [
    "show_doc_from_name('gen_doc.core','Subclass.cmethod')"
   ]
  },
  {
   "cell_type": "markdown",
   "metadata": {},
   "source": []
  },
  {
   "cell_type": "code",
   "execution_count": null,
   "metadata": {
    "hide_input": true
   },
   "outputs": [
    {
     "data": {
      "text/markdown": [
       "<a id=Subclass.remove></a>**Subclass.remove**(<em>self</em>)<div style=\"text-align: right\"><a href=\"gen_doc/core.py#L23\">[source]</a></div>"
      ],
      "text/plain": [
       "<IPython.core.display.Markdown object>"
      ]
     },
     "metadata": {},
     "output_type": "display_data"
    }
   ],
   "source": [
    "show_doc_from_name('gen_doc.core','Subclass.remove')"
   ]
  },
  {
   "cell_type": "markdown",
   "metadata": {},
   "source": []
  },
  {
   "cell_type": "code",
   "execution_count": null,
   "metadata": {
    "hide_input": true
   },
   "outputs": [
    {
     "data": {
      "text/markdown": [
       "<a id=Subclass.update></a>**Subclass.update**(<em>self</em>)<div style=\"text-align: right\"><a href=\"gen_doc/core.py#L21\">[source]</a></div>"
      ],
      "text/plain": [
       "<IPython.core.display.Markdown object>"
      ]
     },
     "metadata": {},
     "output_type": "display_data"
    }
   ],
   "source": [
    "show_doc_from_name('gen_doc.core','Subclass.update')"
   ]
  },
  {
   "cell_type": "markdown",
   "metadata": {},
   "source": []
  }
 ],
 "metadata": {
  "kernelspec": {
   "display_name": "Python 3",
   "language": "python",
   "name": "python3"
  }
 },
 "nbformat": 4,
 "nbformat_minor": 2
}
