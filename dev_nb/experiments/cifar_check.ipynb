{
 "cells": [
  {
   "cell_type": "code",
   "execution_count": null,
   "metadata": {},
   "outputs": [],
   "source": [
    "%matplotlib inline\n",
    "%reload_ext autoreload\n",
    "%autoreload 2"
   ]
  },
  {
   "cell_type": "code",
   "execution_count": null,
   "metadata": {},
   "outputs": [],
   "source": [
    "import os\n",
    "os.chdir('..')\n",
    "\n",
    "from nb_007 import *\n",
    "from models import wrn_22\n",
    "\n",
    "torch.backends.cudnn.benchmark = True"
   ]
  },
  {
   "cell_type": "markdown",
   "metadata": {},
   "source": [
    "## FP16"
   ]
  },
  {
   "cell_type": "code",
   "execution_count": null,
   "metadata": {},
   "outputs": [],
   "source": [
    "cifar_norm,cifar_denorm = normalize_funcs(*cifar_stats)"
   ]
  },
  {
   "cell_type": "code",
   "execution_count": null,
   "metadata": {},
   "outputs": [],
   "source": [
    "tfms = ([pad(padding=4), crop(size=32, row_pct=(0,1), col_pct=(0,1)), flip_lr(p=0.5)], [])\n",
    "data = data_from_imagefolder(Path('data/cifar10'), valid='test', ds_tfms=tfms, tfms=cifar_norm)"
   ]
  },
  {
   "cell_type": "code",
   "execution_count": null,
   "metadata": {},
   "outputs": [],
   "source": [
    "learn = Learner(data, wrn_22(), metrics=accuracy).to_fp16()"
   ]
  },
  {
   "cell_type": "code",
   "execution_count": null,
   "metadata": {},
   "outputs": [
    {
     "data": {
      "application/vnd.jupyter.widget-view+json": {
       "model_id": "",
       "version_major": 2,
       "version_minor": 0
      },
      "text/plain": [
       "VBox(children=(HBox(children=(IntProgress(value=0, max=25), HTML(value=''))), HTML(value='epoch  train loss  v…"
      ]
     },
     "metadata": {},
     "output_type": "display_data"
    },
    {
     "name": "stdout",
     "output_type": "stream",
     "text": [
      "Total time: 18:24\n",
      "epoch  train loss  valid loss  accuracy\n",
      "0      1.053577    1.075420    0.615700  (00:43)\n",
      "1      0.846520    0.800331    0.721800  (00:43)\n",
      "2      0.750400    0.736840    0.750400  (00:44)\n",
      "3      0.643927    0.810132    0.716600  (00:45)\n",
      "4      0.657289    0.673238    0.770500  (00:44)\n",
      "5      0.611319    0.764422    0.749000  (00:44)\n",
      "6      0.611310    0.889637    0.705900  (00:44)\n",
      "7      0.637255    0.893246    0.708000  (00:44)\n",
      "8      0.658988    1.000470    0.680900  (00:44)\n",
      "9      0.690865    1.106645    0.650300  (00:44)\n",
      "10     0.654642    0.833243    0.722200  (00:44)\n",
      "11     0.685643    0.990317    0.666700  (00:44)\n",
      "12     0.688229    1.269259    0.580500  (00:43)\n",
      "13     0.643676    0.739063    0.751600  (00:43)\n",
      "14     0.660140    0.997650    0.667700  (00:44)\n",
      "15     0.586342    0.888132    0.700400  (00:43)\n",
      "16     0.596906    0.833688    0.735100  (00:43)\n",
      "17     0.544137    0.877001    0.718900  (00:44)\n",
      "18     0.492009    0.590439    0.799600  (00:43)\n",
      "19     0.419541    0.460156    0.844400  (00:44)\n",
      "20     0.359291    0.433316    0.854000  (00:44)\n",
      "21     0.299007    0.314826    0.890000  (00:44)\n",
      "22     0.245665    0.256525    0.910700  (00:44)\n",
      "23     0.198498    0.229274    0.921300  (00:43)\n",
      "24     0.167833    0.231643    0.919800  (00:43)\n",
      "\n"
     ]
    }
   ],
   "source": [
    "learn.fit_one_cycle(25, 3e-3, wd=0.4, pct_start=0.45)"
   ]
  },
  {
   "cell_type": "code",
   "execution_count": null,
   "metadata": {},
   "outputs": [],
   "source": [
    "%time learn.fit_one_cycle(30, 3e-3, wd=0.4)"
   ]
  },
  {
   "cell_type": "markdown",
   "metadata": {},
   "source": [
    "## FP32"
   ]
  },
  {
   "cell_type": "code",
   "execution_count": null,
   "metadata": {},
   "outputs": [],
   "source": [
    "learn = Learner(data, wrn_22(), metrics=accuracy)"
   ]
  },
  {
   "cell_type": "code",
   "execution_count": null,
   "metadata": {},
   "outputs": [
    {
     "data": {
      "application/vnd.jupyter.widget-view+json": {
       "model_id": "",
       "version_major": 2,
       "version_minor": 0
      },
      "text/plain": [
       "VBox(children=(HBox(children=(IntProgress(value=0, max=1), HTML(value=''))), HTML(value='epoch  train loss  va…"
      ]
     },
     "metadata": {},
     "output_type": "display_data"
    },
    {
     "name": "stdout",
     "output_type": "stream",
     "text": [
      "Total time: 00:49\n",
      "epoch  train loss  valid loss  accuracy\n",
      "0      1.117267    1.025384    0.627100  (00:49)\n",
      "\n"
     ]
    }
   ],
   "source": [
    "learn.fit_one_cycle(1, 3e-3, wd=0.4)"
   ]
  },
  {
   "cell_type": "code",
   "execution_count": null,
   "metadata": {},
   "outputs": [],
   "source": []
  }
 ],
 "metadata": {
  "kernelspec": {
   "display_name": "Python 3",
   "language": "python",
   "name": "python3"
  }
 },
 "nbformat": 4,
 "nbformat_minor": 2
}
