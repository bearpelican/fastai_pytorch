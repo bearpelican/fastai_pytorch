{
 "cells": [
  {
   "cell_type": "markdown",
   "metadata": {},
   "source": [
    "## 'Dogs vs Cats' in Keras/Tensorflow"
   ]
  },
  {
   "cell_type": "code",
   "execution_count": null,
   "metadata": {},
   "outputs": [],
   "source": [
    "%reload_ext autoreload\n",
    "%autoreload 2\n",
    "%matplotlib inline"
   ]
  },
  {
   "cell_type": "code",
   "execution_count": null,
   "metadata": {},
   "outputs": [],
   "source": [
    "import os\n",
    "os.environ['CUDA_VISIBLE_DEVICES'] = '1'\n",
    "from keras import backend as K\n",
    "\n",
    "config = tf.ConfigProto()\n",
    "config.gpu_options.allow_growth=True\n",
    "sess = tf.Session(config=config)\n",
    "K.set_session(sess)"
   ]
  },
  {
   "cell_type": "code",
   "execution_count": null,
   "metadata": {},
   "outputs": [
    {
     "name": "stderr",
     "output_type": "stream",
     "text": [
      "Using TensorFlow backend.\n"
     ]
    }
   ],
   "source": [
    "import numpy as np\n",
    "from keras.preprocessing.image import ImageDataGenerator\n",
    "from keras.preprocessing import image\n",
    "from keras.layers import Dropout, Flatten, Dense\n",
    "from keras.applications import ResNet50\n",
    "from keras.models import Model, Sequential\n",
    "from keras.layers import Dense, GlobalAveragePooling2D\n",
    "from keras import backend as K\n",
    "from keras.applications.resnet50 import preprocess_input\n",
    "from keras.optimizers import Adam"
   ]
  },
  {
   "cell_type": "code",
   "execution_count": null,
   "metadata": {},
   "outputs": [],
   "source": [
    "PATH = \"../data/dogscats/\"\n",
    "sz,bs=224,64\n",
    "train_data_dir,validation_data_dir = f'{PATH}train',f'{PATH}valid'"
   ]
  },
  {
   "cell_type": "code",
   "execution_count": null,
   "metadata": {},
   "outputs": [
    {
     "name": "stdout",
     "output_type": "stream",
     "text": [
      "Found 23000 images belonging to 2 classes.\n",
      "Found 2000 images belonging to 2 classes.\n"
     ]
    }
   ],
   "source": [
    "train_datagen = ImageDataGenerator(preprocessing_function=preprocess_input,\n",
    "    shear_range=0.2, zoom_range=0.2, rotation_range=10, brightness_range=(0.8,1.2), horizontal_flip=True)\n",
    "\n",
    "test_datagen = ImageDataGenerator(preprocessing_function=preprocess_input)\n",
    "\n",
    "train_generator = train_datagen.flow_from_directory(train_data_dir,\n",
    "    target_size=(sz, sz), batch_size=bs, class_mode='binary')\n",
    "\n",
    "validation_generator = test_datagen.flow_from_directory(validation_data_dir,\n",
    "    target_size=(sz, sz), shuffle=False,\n",
    "    batch_size=bs, class_mode='binary')"
   ]
  },
  {
   "cell_type": "code",
   "execution_count": null,
   "metadata": {},
   "outputs": [
    {
     "name": "stderr",
     "output_type": "stream",
     "text": [
      "/home/jhoward/anaconda3/lib/python3.6/site-packages/keras_applications/resnet50.py:263: UserWarning: The output shape of `ResNet50(include_top=False)` has been changed since Keras 2.2.0.\n",
      "  warnings.warn('The output shape of `ResNet50(include_top=False)` '\n"
     ]
    }
   ],
   "source": [
    "base_model = ResNet50(weights='imagenet', include_top=False)\n",
    "x = base_model.output\n",
    "x = GlobalAveragePooling2D()(x)\n",
    "x = Dense(1024, activation='relu')(x)\n",
    "predictions = Dense(1, activation='sigmoid')(x)"
   ]
  },
  {
   "cell_type": "code",
   "execution_count": null,
   "metadata": {},
   "outputs": [],
   "source": [
    "lr,num_workers = 1e-3,16\n",
    "\n",
    "model = Model(inputs=base_model.input, outputs=predictions)\n",
    "opt = Adam(lr=lr)\n",
    "for layer in base_model.layers: layer.trainable = False\n",
    "model.compile(optimizer=opt, loss='binary_crossentropy', metrics=['accuracy'])"
   ]
  },
  {
   "cell_type": "code",
   "execution_count": null,
   "metadata": {},
   "outputs": [
    {
     "name": "stdout",
     "output_type": "stream",
     "text": [
      "Epoch 1/6\n",
      "359/359 [==============================] - 88s 246ms/step - loss: 0.1135 - acc: 0.9572 - val_loss: 0.0497 - val_acc: 0.9825\n",
      "Epoch 2/6\n",
      "359/359 [==============================] - 85s 236ms/step - loss: 0.0621 - acc: 0.9740 - val_loss: 0.0665 - val_acc: 0.9795\n",
      "Epoch 3/6\n",
      "359/359 [==============================] - 85s 236ms/step - loss: 0.0545 - acc: 0.9799 - val_loss: 0.1027 - val_acc: 0.9720\n",
      "Epoch 4/6\n",
      "359/359 [==============================] - 84s 234ms/step - loss: 0.0502 - acc: 0.9798 - val_loss: 0.0617 - val_acc: 0.9820\n",
      "Epoch 5/6\n",
      "359/359 [==============================] - 84s 233ms/step - loss: 0.0470 - acc: 0.9813 - val_loss: 0.0761 - val_acc: 0.9795\n",
      "Epoch 6/6\n",
      "359/359 [==============================] - 84s 234ms/step - loss: 0.0409 - acc: 0.9837 - val_loss: 0.0799 - val_acc: 0.9795\n",
      "CPU times: user 37min 20s, sys: 1min 44s, total: 39min 5s\n",
      "Wall time: 8min 29s\n"
     ]
    },
    {
     "data": {
      "text/plain": [
       "<keras.callbacks.History at 0x7ff7ad147e80>"
      ]
     },
     "execution_count": null,
     "metadata": {},
     "output_type": "execute_result"
    }
   ],
   "source": [
    "%%time\n",
    "model.fit_generator(train_generator, train_generator.n // bs, epochs=6, workers=num_workers,\n",
    "        validation_data=validation_generator, validation_steps=validation_generator.n // bs)"
   ]
  },
  {
   "cell_type": "code",
   "execution_count": null,
   "metadata": {},
   "outputs": [],
   "source": [
    "model.save_weights(f'{PATH}/models/keras_0.h5')"
   ]
  },
  {
   "cell_type": "code",
   "execution_count": null,
   "metadata": {},
   "outputs": [],
   "source": [
    "model.load_weights(f'{PATH}/models/keras_0.h5')"
   ]
  },
  {
   "cell_type": "code",
   "execution_count": null,
   "metadata": {},
   "outputs": [],
   "source": [
    "for layer in model.layers: layer.trainable = True\n",
    "K.set_value(opt.lr , lr/100)\n",
    "model.compile(optimizer=opt, loss='binary_crossentropy', metrics=['accuracy'])"
   ]
  },
  {
   "cell_type": "code",
   "execution_count": null,
   "metadata": {},
   "outputs": [
    {
     "name": "stdout",
     "output_type": "stream",
     "text": [
      "Epoch 1/6\n",
      "359/359 [==============================] - 184s 514ms/step - loss: 0.0309 - acc: 0.9885 - val_loss: 0.0342 - val_acc: 0.9865\n",
      "Epoch 2/6\n",
      "359/359 [==============================] - 174s 484ms/step - loss: 0.0121 - acc: 0.9965 - val_loss: 0.0251 - val_acc: 0.9910\n",
      "Epoch 3/6\n",
      "359/359 [==============================] - 173s 481ms/step - loss: 0.0092 - acc: 0.9970 - val_loss: 0.0363 - val_acc: 0.9870\n",
      "Epoch 4/6\n",
      "359/359 [==============================] - 172s 480ms/step - loss: 0.0069 - acc: 0.9977 - val_loss: 0.0238 - val_acc: 0.9900\n",
      "Epoch 5/6\n",
      "359/359 [==============================] - 173s 483ms/step - loss: 0.0051 - acc: 0.9985 - val_loss: 0.0236 - val_acc: 0.9910\n",
      "Epoch 6/6\n",
      "359/359 [==============================] - 174s 484ms/step - loss: 0.0036 - acc: 0.9992 - val_loss: 0.0220 - val_acc: 0.9920\n",
      "CPU times: user 39min 31s, sys: 2min 53s, total: 42min 25s\n",
      "Wall time: 17min 38s\n"
     ]
    },
    {
     "data": {
      "text/plain": [
       "<keras.callbacks.History at 0x7ff54c46e6a0>"
      ]
     },
     "execution_count": null,
     "metadata": {},
     "output_type": "execute_result"
    }
   ],
   "source": [
    "%%time\n",
    "model.fit_generator(train_generator, train_generator.n // bs, epochs=6, workers=num_workers,\n",
    "        validation_data=validation_generator, validation_steps=validation_generator.n // bs)"
   ]
  },
  {
   "cell_type": "code",
   "execution_count": null,
   "metadata": {},
   "outputs": [],
   "source": []
  }
 ],
 "metadata": {
  "kernelspec": {
   "display_name": "Python 3",
   "language": "python",
   "name": "python3"
  }
 },
 "nbformat": 4,
 "nbformat_minor": 2
}
